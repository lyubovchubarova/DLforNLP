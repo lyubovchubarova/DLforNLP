{
  "cells": [
    {
      "cell_type": "code",
      "execution_count": 1,
      "metadata": {
        "id": "Ja9_jQdgbNwz"
      },
      "outputs": [],
      "source": [
        "import json\n",
        "import random\n",
        "from tqdm import tqdm\n",
        "import numpy as np\n",
        "\n",
        "from matplotlib import pyplot as plt\n",
        "from sklearn.decomposition import TruncatedSVD\n",
        "from sklearn.manifold import TSNE\n",
        "\n",
        "import torch\n",
        "\n",
        "from pylab import rcParams\n",
        "rcParams['figure.figsize'] = 15, 15"
      ]
    },
    {
      "cell_type": "markdown",
      "metadata": {
        "id": "jpoaSh0rbNw3"
      },
      "source": [
        "# Что делать?\n",
        "Где есть пометка # CODE писать код\n",
        "\n",
        "[Полезный туториал](http://jalammar.github.io/illustrated-word2vec/)"
      ]
    },
    {
      "cell_type": "markdown",
      "metadata": {
        "id": "KLzJEcOPbNw4"
      },
      "source": [
        "# Загружаем данные\n",
        "Они уже обработанные и токенизированные. Процесс можно посмотреть в тетрадке 1.1 Processing corpus"
      ]
    },
    {
      "cell_type": "code",
      "source": [
        "!wget https://github.com/semensorokin/DL-for-NLP/raw/year22-23/HW%231/data/processed_corpus.json.zip\n",
        "!unzip processed_corpus.json.zip"
      ],
      "metadata": {
        "colab": {
          "base_uri": "https://localhost:8080/"
        },
        "id": "DnneK4zBbXAb",
        "outputId": "0f66d970-d8b8-4420-9438-1aafcd4a711f"
      },
      "execution_count": 2,
      "outputs": [
        {
          "output_type": "stream",
          "name": "stdout",
          "text": [
            "--2022-11-16 21:09:55--  https://github.com/semensorokin/DL-for-NLP/raw/year22-23/HW%231/data/processed_corpus.json.zip\n",
            "Resolving github.com (github.com)... 192.30.255.112\n",
            "Connecting to github.com (github.com)|192.30.255.112|:443... connected.\n",
            "HTTP request sent, awaiting response... 302 Found\n",
            "Location: https://raw.githubusercontent.com/semensorokin/DL-for-NLP/year22-23/HW%231/data/processed_corpus.json.zip [following]\n",
            "--2022-11-16 21:09:56--  https://raw.githubusercontent.com/semensorokin/DL-for-NLP/year22-23/HW%231/data/processed_corpus.json.zip\n",
            "Resolving raw.githubusercontent.com (raw.githubusercontent.com)... 185.199.110.133, 185.199.111.133, 185.199.109.133, ...\n",
            "Connecting to raw.githubusercontent.com (raw.githubusercontent.com)|185.199.110.133|:443... connected.\n",
            "HTTP request sent, awaiting response... 200 OK\n",
            "Length: 3052590 (2.9M) [application/zip]\n",
            "Saving to: ‘processed_corpus.json.zip’\n",
            "\n",
            "processed_corpus.js 100%[===================>]   2.91M  --.-KB/s    in 0.04s   \n",
            "\n",
            "2022-11-16 21:09:56 (66.4 MB/s) - ‘processed_corpus.json.zip’ saved [3052590/3052590]\n",
            "\n",
            "Archive:  processed_corpus.json.zip\n",
            "  inflating: processed_corpus.json   \n"
          ]
        }
      ]
    },
    {
      "cell_type": "code",
      "execution_count": 3,
      "metadata": {
        "id": "_KF2Jsf7bNw6"
      },
      "outputs": [],
      "source": [
        "with open('processed_corpus.json') as f:\n",
        "    corpus = json.load(f)"
      ]
    },
    {
      "cell_type": "code",
      "execution_count": 4,
      "metadata": {
        "colab": {
          "base_uri": "https://localhost:8080/"
        },
        "id": "bXJF2hB9bNw7",
        "outputId": "912ad3aa-7d0a-4860-fc93-e5ce66270d9b"
      },
      "outputs": [
        {
          "output_type": "execute_result",
          "data": {
            "text/plain": [
              "100000"
            ]
          },
          "metadata": {},
          "execution_count": 4
        }
      ],
      "source": [
        "len(corpus)"
      ]
    },
    {
      "cell_type": "code",
      "execution_count": 5,
      "metadata": {
        "colab": {
          "base_uri": "https://localhost:8080/"
        },
        "id": "pxSaQDN9bNw8",
        "outputId": "58f832c6-3a11-4e5d-8344-47547b15fa9a"
      },
      "outputs": [
        {
          "output_type": "stream",
          "name": "stdout",
          "text": [
            "второй UNK год окончательно разочаровать решить податься альфабанк\n",
            "вернуть денежный средство лицевой счёт либо зачесть счёт погашение кредит\n",
            "притом ситуация решиться участие течение сутки заявить\n",
            "мой ##число летний жизнь это самый неповоротливый работник банк который видеть\n",
            "везде написать вклад принимать очередь это\n"
          ]
        }
      ],
      "source": [
        "for text in corpus[:5]:\n",
        "    print(' '.join(text))"
      ]
    },
    {
      "cell_type": "markdown",
      "metadata": {
        "id": "hMi1De_ebNw9"
      },
      "source": [
        "# CBOW"
      ]
    },
    {
      "cell_type": "code",
      "execution_count": 6,
      "metadata": {
        "id": "q7fParIfbNw9"
      },
      "outputs": [],
      "source": [
        "sample_text = corpus[1]"
      ]
    },
    {
      "cell_type": "code",
      "execution_count": 7,
      "metadata": {
        "colab": {
          "base_uri": "https://localhost:8080/",
          "height": 1000
        },
        "id": "jFrcUel4bNw-",
        "outputId": "296a41f8-ba09-41e0-ca6d-59b601b97a0f"
      },
      "outputs": [
        {
          "output_type": "execute_result",
          "data": {
            "text/plain": [
              "'вернуть денежный средство лицевой счёт либо зачесть счёт погашение кредит'"
            ],
            "application/vnd.google.colaboratory.intrinsic+json": {
              "type": "string"
            }
          },
          "metadata": {},
          "execution_count": 7
        }
      ],
      "source": [
        "' '.join(sample_text)"
      ]
    },
    {
      "cell_type": "markdown",
      "metadata": {
        "id": "Z4EBMAuTbNw_"
      },
      "source": [
        "# Реализуйте разделение предложения на примеры методом CBOW"
      ]
    },
    {
      "cell_type": "code",
      "execution_count": 8,
      "metadata": {
        "id": "IHTYOVa4bNxA"
      },
      "outputs": [],
      "source": [
        "def cbow_split(tokens, window, pad_token='PAD'):\n",
        "    \n",
        "    splits = []\n",
        "    \n",
        "    for i in range(len(tokens)):\n",
        "      left = [pad_token]*(window - len(tokens[max(0, i - window):i])) + tokens[max(0, i - window):i]\n",
        "      rigth = tokens[i+1:i+window+1] + [pad_token] * (window - len(tokens[i+1:i+window+1]))\n",
        "      splits.append((left, tokens[i], rigth))\n",
        "\n",
        "    return splits"
      ]
    },
    {
      "cell_type": "code",
      "execution_count": 9,
      "metadata": {
        "id": "CWclOo68bNxB"
      },
      "outputs": [],
      "source": [
        "splits = cbow_split(sample_text, window=2)"
      ]
    },
    {
      "cell_type": "code",
      "execution_count": 10,
      "metadata": {
        "colab": {
          "base_uri": "https://localhost:8080/"
        },
        "id": "NR8WkvDebNxB",
        "outputId": "9941c0ee-54bb-4819-de39-1ac63f17643a"
      },
      "outputs": [
        {
          "output_type": "stream",
          "name": "stdout",
          "text": [
            "Левый контекст: ['PAD', 'PAD']\n",
            "Центральное слово: вернуть\n",
            "Правый контекст: ['денежный', 'средство']\n",
            "\n",
            "Левый контекст: ['PAD', 'вернуть']\n",
            "Центральное слово: денежный\n",
            "Правый контекст: ['средство', 'лицевой']\n",
            "\n",
            "Левый контекст: ['вернуть', 'денежный']\n",
            "Центральное слово: средство\n",
            "Правый контекст: ['лицевой', 'счёт']\n",
            "\n",
            "Левый контекст: ['денежный', 'средство']\n",
            "Центральное слово: лицевой\n",
            "Правый контекст: ['счёт', 'либо']\n",
            "\n",
            "Левый контекст: ['средство', 'лицевой']\n",
            "Центральное слово: счёт\n",
            "Правый контекст: ['либо', 'зачесть']\n",
            "\n",
            "Левый контекст: ['лицевой', 'счёт']\n",
            "Центральное слово: либо\n",
            "Правый контекст: ['зачесть', 'счёт']\n",
            "\n",
            "Левый контекст: ['счёт', 'либо']\n",
            "Центральное слово: зачесть\n",
            "Правый контекст: ['счёт', 'погашение']\n",
            "\n",
            "Левый контекст: ['либо', 'зачесть']\n",
            "Центральное слово: счёт\n",
            "Правый контекст: ['погашение', 'кредит']\n",
            "\n",
            "Левый контекст: ['зачесть', 'счёт']\n",
            "Центральное слово: погашение\n",
            "Правый контекст: ['кредит', 'PAD']\n",
            "\n",
            "Левый контекст: ['счёт', 'погашение']\n",
            "Центральное слово: кредит\n",
            "Правый контекст: ['PAD', 'PAD']\n",
            "\n"
          ]
        }
      ],
      "source": [
        "for sample in splits:\n",
        "    print('Левый контекст:', sample[0])\n",
        "    print('Центральное слово:', sample[1])\n",
        "    print('Правый контекст:', sample[2], end='\\n\\n')"
      ]
    },
    {
      "cell_type": "code",
      "execution_count": 11,
      "metadata": {
        "colab": {
          "base_uri": "https://localhost:8080/"
        },
        "id": "T31KWj3TbNxC",
        "outputId": "5634f8bd-b869-44c9-fa27-48b823821c61"
      },
      "outputs": [
        {
          "output_type": "execute_result",
          "data": {
            "text/plain": [
              "[(['PAD', 'PAD'], 'вернуть', ['денежный', 'средство']),\n",
              " (['PAD', 'вернуть'], 'денежный', ['средство', 'лицевой']),\n",
              " (['вернуть', 'денежный'], 'средство', ['лицевой', 'счёт']),\n",
              " (['денежный', 'средство'], 'лицевой', ['счёт', 'либо']),\n",
              " (['средство', 'лицевой'], 'счёт', ['либо', 'зачесть']),\n",
              " (['лицевой', 'счёт'], 'либо', ['зачесть', 'счёт']),\n",
              " (['счёт', 'либо'], 'зачесть', ['счёт', 'погашение']),\n",
              " (['либо', 'зачесть'], 'счёт', ['погашение', 'кредит']),\n",
              " (['зачесть', 'счёт'], 'погашение', ['кредит', 'PAD']),\n",
              " (['счёт', 'погашение'], 'кредит', ['PAD', 'PAD'])]"
            ]
          },
          "metadata": {},
          "execution_count": 11
        }
      ],
      "source": [
        "splits"
      ]
    },
    {
      "cell_type": "markdown",
      "metadata": {
        "id": "_Z_BHcQgbNxD"
      },
      "source": [
        "# Expected\n",
        "\n",
        "```python\n",
        "[(['PAD', 'PAD'], 'вопрос', ['почему', 'например']),\n",
        " (['PAD', 'вопрос'], 'почему', ['например', 'китайский']),\n",
        " (['вопрос', 'почему'], 'например', ['китайский', 'японский']),\n",
        " (['почему', 'например'], 'китайский', ['японский', 'UNK']),\n",
        " (['например', 'китайский'], 'японский', ['UNK', 'PAD']),\n",
        " (['китайский', 'японский'], 'UNK', ['PAD', 'PAD'])]\n",
        "```"
      ]
    },
    {
      "cell_type": "code",
      "execution_count": 12,
      "metadata": {
        "colab": {
          "base_uri": "https://localhost:8080/"
        },
        "id": "3M8jbiNpbNxD",
        "outputId": "70a5f2fd-7134-4e46-a8a5-34cd61416c55"
      },
      "outputs": [
        {
          "output_type": "execute_result",
          "data": {
            "text/plain": [
              "[(['PAD', 'PAD', 'PAD'], 'вернуть', ['денежный', 'средство', 'лицевой']),\n",
              " (['PAD', 'PAD', 'вернуть'], 'денежный', ['средство', 'лицевой', 'счёт']),\n",
              " (['PAD', 'вернуть', 'денежный'], 'средство', ['лицевой', 'счёт', 'либо']),\n",
              " (['вернуть', 'денежный', 'средство'], 'лицевой', ['счёт', 'либо', 'зачесть']),\n",
              " (['денежный', 'средство', 'лицевой'], 'счёт', ['либо', 'зачесть', 'счёт']),\n",
              " (['средство', 'лицевой', 'счёт'], 'либо', ['зачесть', 'счёт', 'погашение']),\n",
              " (['лицевой', 'счёт', 'либо'], 'зачесть', ['счёт', 'погашение', 'кредит']),\n",
              " (['счёт', 'либо', 'зачесть'], 'счёт', ['погашение', 'кредит', 'PAD']),\n",
              " (['либо', 'зачесть', 'счёт'], 'погашение', ['кредит', 'PAD', 'PAD']),\n",
              " (['зачесть', 'счёт', 'погашение'], 'кредит', ['PAD', 'PAD', 'PAD'])]"
            ]
          },
          "metadata": {},
          "execution_count": 12
        }
      ],
      "source": [
        "cbow_split(sample_text, window=3)"
      ]
    },
    {
      "cell_type": "markdown",
      "metadata": {
        "id": "i6SC6vzybNxE"
      },
      "source": [
        "# Expected\n",
        "\n",
        "```python\n",
        "[(['PAD', 'PAD', 'PAD'], 'вопрос', ['почему', 'например', 'китайский']),\n",
        " (['PAD', 'PAD', 'вопрос'], 'почему', ['например', 'китайский', 'японский']),\n",
        " (['PAD', 'вопрос', 'почему'], 'например', ['китайский', 'японский', 'UNK']),\n",
        " (['вопрос', 'почему', 'например'], 'китайский', ['японский', 'UNK', 'PAD']),\n",
        " (['почему', 'например', 'китайский'], 'японский', ['UNK', 'PAD', 'PAD']),\n",
        " (['например', 'китайский', 'японский'], 'UNK', ['PAD', 'PAD', 'PAD'])]\n",
        "```"
      ]
    },
    {
      "cell_type": "markdown",
      "metadata": {
        "id": "zL7QTDgqbNxF"
      },
      "source": [
        "# Skipgram"
      ]
    },
    {
      "cell_type": "code",
      "execution_count": 13,
      "metadata": {
        "colab": {
          "base_uri": "https://localhost:8080/",
          "height": 1000
        },
        "id": "ES9nm4P5bNxF",
        "outputId": "eec8f635-c6ae-450b-e14d-5aea1bcb6cfd"
      },
      "outputs": [
        {
          "output_type": "execute_result",
          "data": {
            "text/plain": [
              "'вернуть денежный средство лицевой счёт либо зачесть счёт погашение кредит'"
            ],
            "application/vnd.google.colaboratory.intrinsic+json": {
              "type": "string"
            }
          },
          "metadata": {},
          "execution_count": 13
        }
      ],
      "source": [
        "' '.join(sample_text)"
      ]
    },
    {
      "cell_type": "markdown",
      "metadata": {
        "id": "RM0wwb_ebNxG"
      },
      "source": [
        "# Реализуйте разделение предложения на примеры методом Skipgram"
      ]
    },
    {
      "cell_type": "code",
      "execution_count": 14,
      "metadata": {
        "id": "ugNv7ECobNxG"
      },
      "outputs": [],
      "source": [
        "def skipgram_split(tokens, window):\n",
        "    \n",
        "    splits = []\n",
        "    \n",
        "    for i in range(len(tokens)):\n",
        "      split = [(word, tokens[i]) for word in tokens[max(0, i - window):i] + tokens[i+1:i+1+window]]\n",
        "      splits.extend(split)\n",
        "    return splits"
      ]
    },
    {
      "cell_type": "code",
      "execution_count": 15,
      "metadata": {
        "id": "hVBWgsIBbNxG"
      },
      "outputs": [],
      "source": [
        "splits = skipgram_split(sample_text, window=2)"
      ]
    },
    {
      "cell_type": "code",
      "execution_count": 16,
      "metadata": {
        "colab": {
          "base_uri": "https://localhost:8080/"
        },
        "id": "H1-kd7D8bNxG",
        "outputId": "84f16717-4418-48d3-9238-22ce37bad496"
      },
      "outputs": [
        {
          "output_type": "stream",
          "name": "stdout",
          "text": [
            "Контекст: денежный\n",
            "Центральное слово: вернуть\n",
            "\n",
            "Контекст: средство\n",
            "Центральное слово: вернуть\n",
            "\n",
            "Контекст: вернуть\n",
            "Центральное слово: денежный\n",
            "\n",
            "Контекст: средство\n",
            "Центральное слово: денежный\n",
            "\n",
            "Контекст: лицевой\n",
            "Центральное слово: денежный\n",
            "\n",
            "Контекст: вернуть\n",
            "Центральное слово: средство\n",
            "\n",
            "Контекст: денежный\n",
            "Центральное слово: средство\n",
            "\n",
            "Контекст: лицевой\n",
            "Центральное слово: средство\n",
            "\n",
            "Контекст: счёт\n",
            "Центральное слово: средство\n",
            "\n",
            "Контекст: денежный\n",
            "Центральное слово: лицевой\n",
            "\n",
            "Контекст: средство\n",
            "Центральное слово: лицевой\n",
            "\n",
            "Контекст: счёт\n",
            "Центральное слово: лицевой\n",
            "\n",
            "Контекст: либо\n",
            "Центральное слово: лицевой\n",
            "\n",
            "Контекст: средство\n",
            "Центральное слово: счёт\n",
            "\n",
            "Контекст: лицевой\n",
            "Центральное слово: счёт\n",
            "\n",
            "Контекст: либо\n",
            "Центральное слово: счёт\n",
            "\n",
            "Контекст: зачесть\n",
            "Центральное слово: счёт\n",
            "\n",
            "Контекст: лицевой\n",
            "Центральное слово: либо\n",
            "\n",
            "Контекст: счёт\n",
            "Центральное слово: либо\n",
            "\n",
            "Контекст: зачесть\n",
            "Центральное слово: либо\n",
            "\n",
            "Контекст: счёт\n",
            "Центральное слово: либо\n",
            "\n",
            "Контекст: счёт\n",
            "Центральное слово: зачесть\n",
            "\n",
            "Контекст: либо\n",
            "Центральное слово: зачесть\n",
            "\n",
            "Контекст: счёт\n",
            "Центральное слово: зачесть\n",
            "\n",
            "Контекст: погашение\n",
            "Центральное слово: зачесть\n",
            "\n",
            "Контекст: либо\n",
            "Центральное слово: счёт\n",
            "\n",
            "Контекст: зачесть\n",
            "Центральное слово: счёт\n",
            "\n",
            "Контекст: погашение\n",
            "Центральное слово: счёт\n",
            "\n",
            "Контекст: кредит\n",
            "Центральное слово: счёт\n",
            "\n",
            "Контекст: зачесть\n",
            "Центральное слово: погашение\n",
            "\n",
            "Контекст: счёт\n",
            "Центральное слово: погашение\n",
            "\n",
            "Контекст: кредит\n",
            "Центральное слово: погашение\n",
            "\n",
            "Контекст: счёт\n",
            "Центральное слово: кредит\n",
            "\n",
            "Контекст: погашение\n",
            "Центральное слово: кредит\n",
            "\n"
          ]
        }
      ],
      "source": [
        "for sample in splits:\n",
        "    print('Контекст:', sample[0])\n",
        "    print('Центральное слово:', sample[1], end='\\n\\n')"
      ]
    },
    {
      "cell_type": "code",
      "execution_count": 17,
      "metadata": {
        "colab": {
          "base_uri": "https://localhost:8080/"
        },
        "id": "boH_RS2PbNxH",
        "outputId": "7871d784-14e0-4a7e-cd41-1f1c0e13fb5d"
      },
      "outputs": [
        {
          "output_type": "execute_result",
          "data": {
            "text/plain": [
              "[('денежный', 'вернуть'),\n",
              " ('средство', 'вернуть'),\n",
              " ('вернуть', 'денежный'),\n",
              " ('средство', 'денежный'),\n",
              " ('лицевой', 'денежный'),\n",
              " ('вернуть', 'средство'),\n",
              " ('денежный', 'средство'),\n",
              " ('лицевой', 'средство'),\n",
              " ('счёт', 'средство'),\n",
              " ('денежный', 'лицевой'),\n",
              " ('средство', 'лицевой'),\n",
              " ('счёт', 'лицевой'),\n",
              " ('либо', 'лицевой'),\n",
              " ('средство', 'счёт'),\n",
              " ('лицевой', 'счёт'),\n",
              " ('либо', 'счёт'),\n",
              " ('зачесть', 'счёт'),\n",
              " ('лицевой', 'либо'),\n",
              " ('счёт', 'либо'),\n",
              " ('зачесть', 'либо'),\n",
              " ('счёт', 'либо'),\n",
              " ('счёт', 'зачесть'),\n",
              " ('либо', 'зачесть'),\n",
              " ('счёт', 'зачесть'),\n",
              " ('погашение', 'зачесть'),\n",
              " ('либо', 'счёт'),\n",
              " ('зачесть', 'счёт'),\n",
              " ('погашение', 'счёт'),\n",
              " ('кредит', 'счёт'),\n",
              " ('зачесть', 'погашение'),\n",
              " ('счёт', 'погашение'),\n",
              " ('кредит', 'погашение'),\n",
              " ('счёт', 'кредит'),\n",
              " ('погашение', 'кредит')]"
            ]
          },
          "metadata": {},
          "execution_count": 17
        }
      ],
      "source": [
        "skipgram_split(sample_text, window=2)"
      ]
    },
    {
      "cell_type": "markdown",
      "metadata": {
        "id": "TiS5YGPVbNxH"
      },
      "source": [
        "# Expected\n",
        "\n",
        "```python\n",
        "[('почему', 'вопрос'),\n",
        " ('например', 'вопрос'),\n",
        " ('вопрос', 'почему'),\n",
        " ('например', 'почему'),\n",
        " ('китайский', 'почему'),\n",
        " ('вопрос', 'например'),\n",
        " ('почему', 'например'),\n",
        " ('китайский', 'например'),\n",
        " ('японский', 'например'),\n",
        " ('почему', 'китайский'),\n",
        " ('например', 'китайский'),\n",
        " ('японский', 'китайский'),\n",
        " ('UNK', 'китайский'),\n",
        " ('например', 'японский'),\n",
        " ('китайский', 'японский'),\n",
        " ('UNK', 'японский'),\n",
        " ('китайский', 'UNK'),\n",
        " ('японский', 'UNK')]\n",
        "```"
      ]
    },
    {
      "cell_type": "code",
      "execution_count": 18,
      "metadata": {
        "colab": {
          "base_uri": "https://localhost:8080/"
        },
        "id": "JP7mrResbNxH",
        "outputId": "0d74b85c-7ae6-460d-b908-81540c54038f"
      },
      "outputs": [
        {
          "output_type": "execute_result",
          "data": {
            "text/plain": [
              "[('денежный', 'вернуть'),\n",
              " ('средство', 'вернуть'),\n",
              " ('лицевой', 'вернуть'),\n",
              " ('вернуть', 'денежный'),\n",
              " ('средство', 'денежный'),\n",
              " ('лицевой', 'денежный'),\n",
              " ('счёт', 'денежный'),\n",
              " ('вернуть', 'средство'),\n",
              " ('денежный', 'средство'),\n",
              " ('лицевой', 'средство'),\n",
              " ('счёт', 'средство'),\n",
              " ('либо', 'средство'),\n",
              " ('вернуть', 'лицевой'),\n",
              " ('денежный', 'лицевой'),\n",
              " ('средство', 'лицевой'),\n",
              " ('счёт', 'лицевой'),\n",
              " ('либо', 'лицевой'),\n",
              " ('зачесть', 'лицевой'),\n",
              " ('денежный', 'счёт'),\n",
              " ('средство', 'счёт'),\n",
              " ('лицевой', 'счёт'),\n",
              " ('либо', 'счёт'),\n",
              " ('зачесть', 'счёт'),\n",
              " ('счёт', 'счёт'),\n",
              " ('средство', 'либо'),\n",
              " ('лицевой', 'либо'),\n",
              " ('счёт', 'либо'),\n",
              " ('зачесть', 'либо'),\n",
              " ('счёт', 'либо'),\n",
              " ('погашение', 'либо'),\n",
              " ('лицевой', 'зачесть'),\n",
              " ('счёт', 'зачесть'),\n",
              " ('либо', 'зачесть'),\n",
              " ('счёт', 'зачесть'),\n",
              " ('погашение', 'зачесть'),\n",
              " ('кредит', 'зачесть'),\n",
              " ('счёт', 'счёт'),\n",
              " ('либо', 'счёт'),\n",
              " ('зачесть', 'счёт'),\n",
              " ('погашение', 'счёт'),\n",
              " ('кредит', 'счёт'),\n",
              " ('либо', 'погашение'),\n",
              " ('зачесть', 'погашение'),\n",
              " ('счёт', 'погашение'),\n",
              " ('кредит', 'погашение'),\n",
              " ('зачесть', 'кредит'),\n",
              " ('счёт', 'кредит'),\n",
              " ('погашение', 'кредит')]"
            ]
          },
          "metadata": {},
          "execution_count": 18
        }
      ],
      "source": [
        "skipgram_split(sample_text, window=3)"
      ]
    },
    {
      "cell_type": "markdown",
      "metadata": {
        "id": "1hbjh1bdbNxI"
      },
      "source": [
        "# Expected\n",
        "\n",
        "```python\n",
        "[('почему', 'вопрос'),\n",
        " ('например', 'вопрос'),\n",
        " ('китайский', 'вопрос'),\n",
        " ('вопрос', 'почему'),\n",
        " ('например', 'почему'),\n",
        " ('китайский', 'почему'),\n",
        " ('японский', 'почему'),\n",
        " ('вопрос', 'например'),\n",
        " ('почему', 'например'),\n",
        " ('китайский', 'например'),\n",
        " ('японский', 'например'),\n",
        " ('UNK', 'например'),\n",
        " ('вопрос', 'китайский'),\n",
        " ('почему', 'китайский'),\n",
        " ('например', 'китайский'),\n",
        " ('японский', 'китайский'),\n",
        " ('UNK', 'китайский'),\n",
        " ('почему', 'японский'),\n",
        " ('например', 'японский'),\n",
        " ('китайский', 'японский'),\n",
        " ('UNK', 'японский'),\n",
        " ('например', 'UNK'),\n",
        " ('китайский', 'UNK'),\n",
        " ('японский', 'UNK')]\n",
        "```"
      ]
    },
    {
      "cell_type": "code",
      "execution_count": 19,
      "metadata": {
        "id": "3mIBRoZbbNxI"
      },
      "outputs": [],
      "source": [
        "word2index = {}\n",
        "\n",
        "for text in corpus:\n",
        "    for token in text:\n",
        "        if token not in word2index:\n",
        "            word2index[token] = len(word2index)"
      ]
    },
    {
      "cell_type": "code",
      "execution_count": 20,
      "metadata": {
        "colab": {
          "base_uri": "https://localhost:8080/"
        },
        "id": "8oobWeubbNxJ",
        "outputId": "8a12688f-ad19-4dfb-9c9d-ea4bcd92eedd"
      },
      "outputs": [
        {
          "output_type": "execute_result",
          "data": {
            "text/plain": [
              "13076"
            ]
          },
          "metadata": {},
          "execution_count": 20
        }
      ],
      "source": [
        "len(word2index)"
      ]
    },
    {
      "cell_type": "code",
      "execution_count": 21,
      "metadata": {
        "colab": {
          "base_uri": "https://localhost:8080/"
        },
        "id": "3GokFRIYbNxJ",
        "outputId": "84fe5b1f-7453-48b2-c34d-386ff7b9d0bd"
      },
      "outputs": [
        {
          "output_type": "execute_result",
          "data": {
            "text/plain": [
              "1"
            ]
          },
          "metadata": {},
          "execution_count": 21
        }
      ],
      "source": [
        "word2index['UNK']"
      ]
    },
    {
      "cell_type": "code",
      "execution_count": 22,
      "metadata": {
        "colab": {
          "base_uri": "https://localhost:8080/"
        },
        "id": "AQyxpTdbbNxJ",
        "outputId": "5f69e3e7-ae52-44d8-cfa3-05bc88d01e51"
      },
      "outputs": [
        {
          "output_type": "execute_result",
          "data": {
            "text/plain": [
              "[1282, 8436, 1]"
            ]
          },
          "metadata": {},
          "execution_count": 22
        }
      ],
      "source": [
        "[word2index[tok] if tok in word2index else word2index['UNK'] for tok in 'мама мыть рама'.split()]"
      ]
    },
    {
      "cell_type": "markdown",
      "metadata": {
        "id": "b_upSDxqbNxK"
      },
      "source": [
        "# Torch Dataset\n",
        "В торче есть очень удобная читалка данных"
      ]
    },
    {
      "cell_type": "code",
      "execution_count": 23,
      "metadata": {
        "id": "kLm9yzPCbNxK"
      },
      "outputs": [],
      "source": [
        "from torch.utils.data import Dataset, DataLoader"
      ]
    },
    {
      "cell_type": "code",
      "execution_count": 24,
      "metadata": {
        "id": "fxwY6bIZbNxL"
      },
      "outputs": [],
      "source": [
        "# игрушечный датасет\n",
        "# 121535 примера, 4 фичи, 3 класса\n",
        "some_data_x = np.random.rand(121535, 4)\n",
        "some_data_y = np.random.randint(3, size=(121535,))"
      ]
    },
    {
      "cell_type": "code",
      "execution_count": 25,
      "metadata": {
        "colab": {
          "base_uri": "https://localhost:8080/"
        },
        "id": "TnqpPHBtbNxL",
        "outputId": "175a6989-6c62-4d89-9197-1d75d2ee4399"
      },
      "outputs": [
        {
          "output_type": "execute_result",
          "data": {
            "text/plain": [
              "array([[0.82423416, 0.89183175, 0.06968994, 0.22716246],\n",
              "       [0.44427773, 0.41961504, 0.77536307, 0.50297078],\n",
              "       [0.3550908 , 0.56082709, 0.63213393, 0.15788702],\n",
              "       [0.25347769, 0.18027402, 0.23330699, 0.33147676],\n",
              "       [0.5657003 , 0.67672139, 0.24645577, 0.87906098],\n",
              "       [0.46691102, 0.30168271, 0.57671351, 0.00530142],\n",
              "       [0.36551444, 0.3726183 , 0.20004808, 0.94650302],\n",
              "       [0.36924655, 0.21219763, 0.61561489, 0.72742245],\n",
              "       [0.13991772, 0.95331594, 0.15627174, 0.75228112],\n",
              "       [0.86571591, 0.79121192, 0.93518214, 0.20903938]])"
            ]
          },
          "metadata": {},
          "execution_count": 25
        }
      ],
      "source": [
        "# соверешенно игрушечный, просто цифры\n",
        "some_data_x[:10]"
      ]
    },
    {
      "cell_type": "code",
      "execution_count": 26,
      "metadata": {
        "colab": {
          "base_uri": "https://localhost:8080/"
        },
        "id": "ICFhG-b0bNxL",
        "outputId": "addfd019-2dde-4988-9dec-2ac347d338e7"
      },
      "outputs": [
        {
          "output_type": "execute_result",
          "data": {
            "text/plain": [
              "array([1, 1, 1, ..., 0, 0, 2])"
            ]
          },
          "metadata": {},
          "execution_count": 26
        }
      ],
      "source": [
        "some_data_y"
      ]
    },
    {
      "cell_type": "code",
      "execution_count": 27,
      "metadata": {
        "id": "LVydsVOhbNxM"
      },
      "outputs": [],
      "source": [
        "class ToyDataset(Dataset):\n",
        "    \n",
        "    def __init__(self, data_x, data_y):\n",
        "        \n",
        "        super().__init__()\n",
        "        \n",
        "        self.data_x = data_x\n",
        "        self.data_y = data_y\n",
        "        \n",
        "    def __len__(self):\n",
        "        \n",
        "        # Нужно обязательно определить эту функцию\n",
        "        # Должна возвращать размер датасета\n",
        "        \n",
        "        return len(self.data_x)\n",
        "    \n",
        "    def __getitem__(self, idx):\n",
        "        \n",
        "        # Еще нужно определить этот метод\n",
        "        # То есть как мы будем доставать наши данные по индексу\n",
        "        \n",
        "        return self.data_x[idx], self.data_y[idx]"
      ]
    },
    {
      "cell_type": "code",
      "execution_count": 28,
      "metadata": {
        "id": "gFjl-4uubNxM"
      },
      "outputs": [],
      "source": [
        "some_dataset = ToyDataset(some_data_x, some_data_y)"
      ]
    },
    {
      "cell_type": "code",
      "execution_count": 29,
      "metadata": {
        "colab": {
          "base_uri": "https://localhost:8080/"
        },
        "id": "jR2xU5p_bNxM",
        "outputId": "8063575c-19ba-4150-fc44-bc75edd46f0b"
      },
      "outputs": [
        {
          "output_type": "execute_result",
          "data": {
            "text/plain": [
              "((array([0.46691102, 0.30168271, 0.57671351, 0.00530142]), 2),\n",
              " (array([0.73155961, 0.62619634, 0.079498  , 0.53801151]), 2))"
            ]
          },
          "metadata": {},
          "execution_count": 29
        }
      ],
      "source": [
        "some_dataset[5], some_dataset[467]"
      ]
    },
    {
      "cell_type": "code",
      "execution_count": 30,
      "metadata": {
        "id": "aSOKRntYbNxM"
      },
      "outputs": [],
      "source": [
        "some_loader = DataLoader(some_dataset, batch_size=16, shuffle=True)"
      ]
    },
    {
      "cell_type": "code",
      "execution_count": 31,
      "metadata": {
        "colab": {
          "base_uri": "https://localhost:8080/"
        },
        "id": "A9WHsnHlbNxN",
        "outputId": "be6f3860-5684-450c-8282-60392a9b6d87"
      },
      "outputs": [
        {
          "output_type": "execute_result",
          "data": {
            "text/plain": [
              "(16, tensor([[0.6775, 0.5768, 0.6406, 0.0924],\n",
              "         [0.4447, 0.6239, 0.4052, 0.6152],\n",
              "         [0.9486, 0.6439, 0.0488, 0.2715],\n",
              "         [0.4448, 0.6798, 0.1874, 0.6521],\n",
              "         [0.7205, 0.9120, 0.5304, 0.8725],\n",
              "         [0.7990, 0.7994, 0.8689, 0.8794],\n",
              "         [0.8788, 0.5694, 0.7719, 0.1417],\n",
              "         [0.8833, 0.7648, 0.0055, 0.0138],\n",
              "         [0.1970, 0.0783, 0.7689, 0.0750],\n",
              "         [0.4108, 0.2683, 0.6006, 0.1494],\n",
              "         [0.9257, 0.3933, 0.2366, 0.7630],\n",
              "         [0.2823, 0.9912, 0.9286, 0.1298],\n",
              "         [0.7290, 0.5592, 0.9356, 0.1271],\n",
              "         [0.7986, 0.8307, 0.0667, 0.2649],\n",
              "         [0.2305, 0.1901, 0.8639, 0.3471],\n",
              "         [0.1358, 0.6472, 0.6099, 0.5372]], dtype=torch.float64))"
            ]
          },
          "metadata": {},
          "execution_count": 31
        }
      ],
      "source": [
        "for x, y in some_loader:\n",
        "    break\n",
        "    \n",
        "len(x), x"
      ]
    },
    {
      "cell_type": "code",
      "execution_count": 32,
      "metadata": {
        "colab": {
          "base_uri": "https://localhost:8080/"
        },
        "id": "5QrZXqJhbNxN",
        "outputId": "176ad099-1b0b-4b87-f0e1-bb0d495315be"
      },
      "outputs": [
        {
          "output_type": "execute_result",
          "data": {
            "text/plain": [
              "15"
            ]
          },
          "metadata": {},
          "execution_count": 32
        }
      ],
      "source": [
        "for x, y in some_loader:\n",
        "    pass\n",
        "\n",
        "len(x)"
      ]
    },
    {
      "cell_type": "code",
      "execution_count": 33,
      "metadata": {
        "colab": {
          "base_uri": "https://localhost:8080/"
        },
        "id": "tkhLamLpbNxO",
        "outputId": "24b7b2b6-3bd7-40bd-e602-0b527601430a"
      },
      "outputs": [
        {
          "output_type": "execute_result",
          "data": {
            "text/plain": [
              "15"
            ]
          },
          "metadata": {},
          "execution_count": 33
        }
      ],
      "source": [
        "# почему 13?\n",
        "# потому что количество наших данных нацело не делится на 16\n",
        "# и поэтому последний батч меньше 16-ти\n",
        "len(some_dataset) % 16"
      ]
    },
    {
      "cell_type": "markdown",
      "metadata": {
        "id": "gIq-7DG5bNxO"
      },
      "source": [
        "# А зачем?"
      ]
    },
    {
      "cell_type": "code",
      "execution_count": 34,
      "metadata": {
        "id": "x2_eHBWHbNxO"
      },
      "outputs": [],
      "source": [
        "class ToyDataset(Dataset):\n",
        "    \n",
        "    def __init__(self, data_x, data_y):\n",
        "        \n",
        "        super().__init__()\n",
        "        \n",
        "        self.data_x = data_x\n",
        "        self.data_y = data_y\n",
        "        \n",
        "    def __len__(self):\n",
        "        \n",
        "        # Нужно обязательно определить эту функцию\n",
        "        # Должна возвращать размер датасета\n",
        "        \n",
        "        return len(self.data_x)\n",
        "    \n",
        "    @staticmethod\n",
        "    def add_pow_features(x, n=2):\n",
        "        \n",
        "        return np.concatenate([x, x ** n]) \n",
        "    \n",
        "    @staticmethod\n",
        "    def add_log_features(x):\n",
        "        \n",
        "        return np.concatenate([x, np.log(x)]) \n",
        "    \n",
        "    def __getitem__(self, idx):\n",
        "        \n",
        "        # Еще нужно определить этот метод\n",
        "        # То есть как мы будем доставать наши данные по индексу\n",
        "        \n",
        "        x = self.data_x[idx]\n",
        "        \n",
        "        # внутри датасета мы можем делать все что угодно с нашими данными\n",
        "        # например выше определим функции, которые добавляют степенные фичи\n",
        "        x = self.add_pow_features(x, n=2)\n",
        "        x = self.add_pow_features(x, n=3)\n",
        "        # и еще возьмем логарифмические фичи\n",
        "        x = self.add_log_features(x)\n",
        "        \n",
        "        y = self.data_y[idx]\n",
        "        \n",
        "        return x, y"
      ]
    },
    {
      "cell_type": "code",
      "execution_count": 35,
      "metadata": {
        "id": "4fMAY99ibNxP"
      },
      "outputs": [],
      "source": [
        "toy_dataset = ToyDataset(some_data_x, some_data_y)"
      ]
    },
    {
      "cell_type": "code",
      "execution_count": 36,
      "metadata": {
        "id": "AkJt5modbNxP"
      },
      "outputs": [],
      "source": [
        "toy_loader = DataLoader(dataset=toy_dataset, batch_size=128)"
      ]
    },
    {
      "cell_type": "code",
      "execution_count": 37,
      "metadata": {
        "id": "cOplmEwGbNxQ"
      },
      "outputs": [],
      "source": [
        "for x, y in toy_loader:\n",
        "    break"
      ]
    },
    {
      "cell_type": "code",
      "execution_count": 38,
      "metadata": {
        "colab": {
          "base_uri": "https://localhost:8080/"
        },
        "id": "_W28Qmu7bNxQ",
        "outputId": "2d439d36-cbbf-4115-f8f2-26a4d9cf1264"
      },
      "outputs": [
        {
          "output_type": "execute_result",
          "data": {
            "text/plain": [
              "torch.Size([128, 32])"
            ]
          },
          "metadata": {},
          "execution_count": 38
        }
      ],
      "source": [
        "x.shape"
      ]
    },
    {
      "cell_type": "code",
      "execution_count": 39,
      "metadata": {
        "colab": {
          "base_uri": "https://localhost:8080/"
        },
        "id": "JEEZUenDbNxQ",
        "outputId": "7f095f9f-9a66-4358-c492-a2a040460310"
      },
      "outputs": [
        {
          "output_type": "execute_result",
          "data": {
            "text/plain": [
              "tensor([[  0.8242,   0.8918,   0.0697,  ...,  -0.6869, -15.9822,  -8.8925],\n",
              "        [  0.4443,   0.4196,   0.7754,  ...,  -5.2105,  -1.5265,  -4.1233],\n",
              "        [  0.3551,   0.5608,   0.6321,  ...,  -3.4701,  -2.7519, -11.0753],\n",
              "        ...,\n",
              "        [  0.5394,   0.8701,   0.4637,  ...,  -0.8349,  -4.6110, -20.7201],\n",
              "        [  0.4541,   0.8364,   0.8379,  ...,  -1.0717,  -1.0614,  -0.8557],\n",
              "        [  0.4979,   0.2269,   0.7238,  ...,  -8.8982,  -1.9396,  -1.4728]],\n",
              "       dtype=torch.float64)"
            ]
          },
          "metadata": {},
          "execution_count": 39
        }
      ],
      "source": [
        "# заметим, что мы сразу получаем торчовый формат данных\n",
        "x"
      ]
    },
    {
      "cell_type": "code",
      "execution_count": 40,
      "metadata": {
        "colab": {
          "base_uri": "https://localhost:8080/"
        },
        "id": "V9hu7JILbNxS",
        "outputId": "dffd4daf-a9c6-4cb8-ad20-10b5953a170b"
      },
      "outputs": [
        {
          "output_type": "execute_result",
          "data": {
            "text/plain": [
              "tensor([1, 1, 1, 0, 2, 2, 1, 2, 0, 0, 0, 1, 0, 0, 2, 0, 1, 1, 1, 0, 2, 1, 1, 2,\n",
              "        2, 1, 2, 0, 2, 1, 1, 2, 1, 2, 0, 0, 0, 1, 1, 1, 0, 2, 2, 0, 0, 1, 2, 2,\n",
              "        1, 2, 1, 0, 1, 0, 1, 1, 1, 2, 2, 2, 2, 2, 2, 1, 2, 0, 0, 0, 0, 0, 2, 0,\n",
              "        1, 2, 2, 2, 0, 2, 1, 2, 2, 1, 0, 2, 2, 1, 1, 0, 0, 1, 2, 1, 0, 1, 2, 0,\n",
              "        0, 0, 1, 2, 1, 2, 1, 1, 0, 2, 0, 1, 0, 1, 0, 0, 0, 1, 2, 1, 2, 1, 2, 0,\n",
              "        1, 2, 0, 1, 0, 2, 1, 0])"
            ]
          },
          "metadata": {},
          "execution_count": 40
        }
      ],
      "source": [
        "y"
      ]
    },
    {
      "cell_type": "markdown",
      "metadata": {
        "id": "rn7YUt2-bNxS"
      },
      "source": [
        "# Если вы ничего здесь не понимаете, то вернитесь в конец первой домашки, там все объясняется"
      ]
    },
    {
      "cell_type": "code",
      "execution_count": 41,
      "metadata": {
        "id": "v7xiU57HbNxT"
      },
      "outputs": [],
      "source": [
        "model = torch.nn.Sequential(torch.nn.Linear(32, 16),\n",
        "                            torch.nn.ReLU(),\n",
        "                            torch.nn.Linear(16, 8),\n",
        "                            torch.nn.ReLU(),\n",
        "                            torch.nn.Linear(8, 3))\n",
        "\n",
        "criterion = torch.nn.CrossEntropyLoss()"
      ]
    },
    {
      "cell_type": "code",
      "execution_count": 42,
      "metadata": {
        "colab": {
          "base_uri": "https://localhost:8080/"
        },
        "id": "2UB6dUpbbNxT",
        "outputId": "12294e06-366d-4b64-a4b6-34e516368df5"
      },
      "outputs": [
        {
          "output_type": "execute_result",
          "data": {
            "text/plain": [
              "1.1195400953292847"
            ]
          },
          "metadata": {},
          "execution_count": 42
        }
      ],
      "source": [
        "with torch.no_grad():\n",
        "\n",
        "    prediction = model(x.float())\n",
        "\n",
        "    loss = criterion(prediction, y)\n",
        "    \n",
        "loss.item()"
      ]
    },
    {
      "cell_type": "markdown",
      "metadata": {
        "id": "GIDWY-lubNxU"
      },
      "source": [
        "# Боевые датасеты"
      ]
    },
    {
      "cell_type": "code",
      "execution_count": 43,
      "metadata": {
        "id": "hTuN-P_HbNxU"
      },
      "outputs": [],
      "source": [
        "class CBOWDataset(Dataset):\n",
        "\n",
        "    def __init__(self,\n",
        "                 corpus,\n",
        "                 word2index,\n",
        "                 window=2,\n",
        "                 unk_token='UNK',\n",
        "                 pad_token='PAD',\n",
        "                 collect_verbose=True):\n",
        "\n",
        "        self.corpus = corpus\n",
        "        self.word2index = word2index\n",
        "        self.index2word = {value: key for key, value in self.word2index.items()}\n",
        "        self.window = window\n",
        "\n",
        "        self.unk_token = unk_token\n",
        "        self.unk_index = self.word2index[self.unk_token]\n",
        "\n",
        "        self.pad_token = pad_token\n",
        "        self.pad_index = len(self.word2index)\n",
        "\n",
        "        self.collect_verbose = collect_verbose\n",
        "\n",
        "        self.data = []\n",
        "\n",
        "        self.collect_data()\n",
        "\n",
        "    def __len__(self):\n",
        "\n",
        "        return len(self.data)\n",
        "\n",
        "    def _split_function(self, tokenized_text):\n",
        "\n",
        "        splits = []\n",
        "\n",
        "        for n in range(len(tokenized_text)):\n",
        "            left_context = tokenized_text[np.maximum(n - self.window, 0):n]\n",
        "            left_context = ([self.pad_index] * (self.window - len(left_context))) + left_context\n",
        "\n",
        "            central_word = tokenized_text[n]\n",
        "\n",
        "            right_context = tokenized_text[n + 1:n + self.window + 1]\n",
        "            right_context = right_context + ([self.pad_index] * (self.window - len(right_context)))\n",
        "\n",
        "            splits.append((left_context + right_context, central_word))\n",
        "\n",
        "        return splits\n",
        "\n",
        "    def indexing(self, tokenized_text):\n",
        "\n",
        "        return [self.word2index[token] if token in self.word2index else self.unk_index for token in tokenized_text]\n",
        "\n",
        "    def collect_data(self):\n",
        "\n",
        "        corpus = tqdm(self.corpus, disable=not self.collect_verbose)\n",
        "\n",
        "        for tokenized_text in corpus:\n",
        "            indexed_text = self.indexing(tokenized_text)\n",
        "            cbow_examples = self._split_function(indexed_text)\n",
        "\n",
        "            self.data.extend(cbow_examples)\n",
        "\n",
        "    def __getitem__(self, idx):\n",
        "\n",
        "        context, central_word = self.data[idx]\n",
        "\n",
        "        context = torch.Tensor(context).long()\n",
        "\n",
        "        return context, central_word"
      ]
    },
    {
      "cell_type": "markdown",
      "metadata": {
        "id": "Rt8KgDwGbNxU"
      },
      "source": [
        "# Мы будем учить модель Skipgram\n",
        "Реализуйте читалку данных"
      ]
    },
    {
      "cell_type": "code",
      "execution_count": 44,
      "metadata": {
        "id": "sCN6GrEDbNxU"
      },
      "outputs": [],
      "source": [
        "class SkipgramDataset(Dataset):\n",
        "\n",
        "    def __init__(self,\n",
        "                 corpus,\n",
        "                 word2index,\n",
        "                 window=2,\n",
        "                 unk_token='UNK',\n",
        "                 collect_verbose=True):\n",
        "      \n",
        "        self.corpus = corpus\n",
        "        self.word2index = word2index\n",
        "        self.index2word = {value: key for key, value in self.word2index.items()}\n",
        "        self.window = window\n",
        "\n",
        "        self.unk_token = unk_token\n",
        "        self.unk_index = self.word2index[self.unk_token]\n",
        "\n",
        "        self.collect_verbose = collect_verbose\n",
        "\n",
        "        self.data = []\n",
        "\n",
        "        self.collect_data()\n",
        "\n",
        "    def __len__(self):\n",
        "\n",
        "        return len(self.data)\n",
        "\n",
        "    def _split_function(self, tokenized_text):\n",
        "\n",
        "        splits = []\n",
        "\n",
        "        for i in range(len(tokenized_text)):\n",
        "          split = [(word, tokenized_text[i]) for word in tokenized_text[max(0, i - self.window):i] + tokenized_text[i+1:i+1+self.window]]\n",
        "          splits.extend(split)\n",
        "\n",
        "        return splits\n",
        "\n",
        "    def indexing(self, tokenized_text):\n",
        "\n",
        "        return [self.word2index[token] if token in self.word2index else self.unk_index for token in tokenized_text]\n",
        "\n",
        "    def collect_data(self):\n",
        "\n",
        "        corpus = tqdm(self.corpus, disable=not self.collect_verbose)\n",
        "\n",
        "        for tokenized_text in corpus:\n",
        "            indexed_text = self.indexing(tokenized_text)\n",
        "            skipgram_examples = self._split_function(indexed_text)\n",
        "\n",
        "            self.data.extend(skipgram_examples)\n",
        "\n",
        "    def __getitem__(self, idx):\n",
        "        \n",
        "        context, central_word = self.data[idx]\n",
        "\n",
        "        return context, central_word"
      ]
    },
    {
      "cell_type": "code",
      "execution_count": 45,
      "metadata": {
        "id": "PIK6rRocbNxV"
      },
      "outputs": [],
      "source": [
        "# можете положить SkipgramDataset в отдельный файлик, например word2vec_utils и относительным импортом достать его \n",
        "#from .word2vec_utils import SkipgramDataset"
      ]
    },
    {
      "cell_type": "code",
      "execution_count": 46,
      "metadata": {
        "scrolled": true,
        "colab": {
          "base_uri": "https://localhost:8080/"
        },
        "id": "tupPBK97bNxV",
        "outputId": "405f92c4-0c01-41e3-ad96-1ec1a3ca1559"
      },
      "outputs": [
        {
          "output_type": "stream",
          "name": "stderr",
          "text": [
            "100%|██████████| 100000/100000 [00:01<00:00, 61510.34it/s]\n"
          ]
        }
      ],
      "source": [
        "dataset = SkipgramDataset(corpus, word2index)"
      ]
    },
    {
      "cell_type": "code",
      "execution_count": 47,
      "metadata": {
        "id": "CBkzwJ1EbNxV"
      },
      "outputs": [],
      "source": [
        "BATCH_SIZE = 512"
      ]
    },
    {
      "cell_type": "code",
      "execution_count": 48,
      "metadata": {
        "id": "ThVnOFm5bNxW"
      },
      "outputs": [],
      "source": [
        "dataset_loader = DataLoader(dataset, shuffle=True, batch_size=BATCH_SIZE)"
      ]
    },
    {
      "cell_type": "code",
      "execution_count": 49,
      "metadata": {
        "id": "G13WOtKqbNxW"
      },
      "outputs": [],
      "source": [
        "for x, y in dataset_loader:\n",
        "    break"
      ]
    },
    {
      "cell_type": "code",
      "execution_count": 50,
      "metadata": {
        "id": "tzeWXjiRbNxW",
        "colab": {
          "base_uri": "https://localhost:8080/"
        },
        "outputId": "769eacbd-1615-4a64-8289-cd0bc0d1d388"
      },
      "outputs": [
        {
          "output_type": "execute_result",
          "data": {
            "text/plain": [
              "tensor([ 24, 708,  32,  32, 337])"
            ]
          },
          "metadata": {},
          "execution_count": 50
        }
      ],
      "source": [
        "x[:5]"
      ]
    },
    {
      "cell_type": "code",
      "execution_count": 51,
      "metadata": {
        "colab": {
          "base_uri": "https://localhost:8080/"
        },
        "id": "h2PaMGxubNxX",
        "outputId": "6412f502-f124-4d64-efc7-f7c35491678d"
      },
      "outputs": [
        {
          "output_type": "execute_result",
          "data": {
            "text/plain": [
              "tensor([ 343, 1219,  183, 1964,  140])"
            ]
          },
          "metadata": {},
          "execution_count": 51
        }
      ],
      "source": [
        "y[:5]"
      ]
    },
    {
      "cell_type": "code",
      "execution_count": 52,
      "metadata": {
        "colab": {
          "base_uri": "https://localhost:8080/"
        },
        "id": "K80DnhD4bNxX",
        "outputId": "d79348e5-ff5d-476d-f5b2-494d46782130"
      },
      "outputs": [
        {
          "output_type": "execute_result",
          "data": {
            "text/plain": [
              "(torch.Size([512]), torch.Size([512]))"
            ]
          },
          "metadata": {},
          "execution_count": 52
        }
      ],
      "source": [
        "x.shape, y.shape"
      ]
    },
    {
      "cell_type": "code",
      "execution_count": 53,
      "metadata": {
        "id": "MxqPRzYNbNxX"
      },
      "outputs": [],
      "source": [
        "class CBOW(torch.nn.Module):\n",
        "    \n",
        "    def __init__(self, vocab_size, embedding_dim, pad_index):\n",
        "        \n",
        "        super().__init__()\n",
        "        \n",
        "        if pad_index > 0:\n",
        "            vocab_size += 1\n",
        "        \n",
        "        self.in_embedding = torch.nn.Embedding(num_embeddings=vocab_size, \n",
        "                                               embedding_dim=embedding_dim,\n",
        "                                               padding_idx=pad_index)\n",
        "        \n",
        "        self.out_embedding = torch.nn.Linear(in_features=embedding_dim,\n",
        "                                             out_features=vocab_size, bias=False)\n",
        "        \n",
        "    def forward(self, x):\n",
        "        \n",
        "        x = self.in_embedding(x).sum(dim=-2)\n",
        "        x = self.out_embedding(x)\n",
        "        \n",
        "        return x"
      ]
    },
    {
      "cell_type": "markdown",
      "metadata": {
        "id": "X0E7cxeLbNxY"
      },
      "source": [
        "# Мы будем учить модель Skipgram\n",
        "Реализуйте ее"
      ]
    },
    {
      "cell_type": "code",
      "execution_count": 54,
      "metadata": {
        "id": "pVgH950hbNxY"
      },
      "outputs": [],
      "source": [
        "# CODE\n",
        "\n",
        "class SkipGram(torch.nn.Module):\n",
        "\n",
        "  def __init__(self, vocab_size, embedding_dim):\n",
        "\n",
        "    super().__init__()\n",
        "\n",
        "    self.in_embedding = torch.nn.Embedding(num_embeddings=vocab_size, \n",
        "                                               embedding_dim=embedding_dim)\n",
        "    self.out_embedding = torch.nn.Linear(in_features=embedding_dim,\n",
        "                                             out_features=vocab_size, bias = False)\n",
        "    \n",
        "  def forward(self, x):\n",
        "    \n",
        "    x = self.in_embedding(x)\n",
        "    x = self.out_embedding(x)\n",
        "        \n",
        "    return x\n"
      ]
    },
    {
      "cell_type": "code",
      "execution_count": 55,
      "metadata": {
        "id": "WV6Viiq8bNxZ"
      },
      "outputs": [],
      "source": [
        "#from word2vec_utils import SkipGram"
      ]
    },
    {
      "cell_type": "code",
      "execution_count": 56,
      "metadata": {
        "id": "3DpAf-S7bNxZ"
      },
      "outputs": [],
      "source": [
        "# размерность эмбеддинга\n",
        "# маленькая, чтобы мы могли недолго поучить ворд2век и увидеть результаты\n",
        "EMBEDDING_DIM = 20"
      ]
    },
    {
      "cell_type": "code",
      "execution_count": 57,
      "metadata": {
        "id": "DDWUfi4KbNxa"
      },
      "outputs": [],
      "source": [
        "model = SkipGram(vocab_size=len(word2index), embedding_dim=EMBEDDING_DIM)"
      ]
    },
    {
      "cell_type": "code",
      "execution_count": 58,
      "metadata": {
        "colab": {
          "base_uri": "https://localhost:8080/"
        },
        "id": "akn__P6wbNxa",
        "outputId": "a5afb6a7-ad49-496d-9977-f585ee190ead"
      },
      "outputs": [
        {
          "output_type": "execute_result",
          "data": {
            "text/plain": [
              "torch.Size([512, 13076])"
            ]
          },
          "metadata": {},
          "execution_count": 58
        }
      ],
      "source": [
        "with torch.no_grad():\n",
        "    pred = model(x)\n",
        "\n",
        "pred.shape"
      ]
    },
    {
      "cell_type": "code",
      "execution_count": 59,
      "metadata": {
        "id": "qCuP7EnqbNxb"
      },
      "outputs": [],
      "source": [
        "optimizer = torch.optim.Adam(params=model.parameters(), lr=0.0001)\n",
        "\n",
        "# aka loss function\n",
        "criterion = torch.nn.CrossEntropyLoss()"
      ]
    },
    {
      "cell_type": "markdown",
      "metadata": {
        "id": "-sQckmtFbNxb"
      },
      "source": [
        "# Допишите обучалку"
      ]
    },
    {
      "cell_type": "code",
      "execution_count": 60,
      "metadata": {
        "colab": {
          "base_uri": "https://localhost:8080/"
        },
        "id": "qrxeJ3_ZbNxc",
        "outputId": "c093dddb-3caf-4bd9-ed74-57bbedfb68f2"
      },
      "outputs": [
        {
          "output_type": "stream",
          "name": "stderr",
          "text": [
            "Epoch 1: 100%|██████████| 2983124/2983124 [07:37<00:00, 6524.05it/s, loss=7.43]\n",
            "Epoch 2: 100%|██████████| 2983124/2983124 [07:36<00:00, 6531.12it/s, loss=7.29]\n",
            "Epoch 3: 100%|██████████| 2983124/2983124 [07:27<00:00, 6665.06it/s, loss=7.13]\n"
          ]
        }
      ],
      "source": [
        "epochs = 3\n",
        "losses = []\n",
        "#model.train()\n",
        "# device = torch.device('cuda:0')\n",
        "# model.to(device)\n",
        "\n",
        "for n_epoch in range(epochs):\n",
        "\n",
        "    try:\n",
        "\n",
        "        progress_bar = tqdm(total=len(dataset_loader.dataset), desc='Epoch {}'.format(n_epoch + 1))\n",
        "\n",
        "        for x, y in dataset_loader:\n",
        "\n",
        "            # x = x.to(device)\n",
        "            # y = y.to(device)\n",
        "            # optimizer.zero_grad()\n",
        "            pred = model(x)\n",
        "            loss = criterion(pred, y)\n",
        "            loss.backward()\n",
        "            optimizer.step()\n",
        "            losses.append(loss.item())\n",
        "            \n",
        "            progress_bar.set_postfix(loss=np.mean(losses[-100:]))\n",
        "            progress_bar.update(x.shape[0])\n",
        "\n",
        "        progress_bar.close()\n",
        "\n",
        "    except KeyboardInterrupt:\n",
        "\n",
        "        progress_bar.close()\n",
        "        break"
      ]
    },
    {
      "cell_type": "code",
      "execution_count": 61,
      "metadata": {
        "colab": {
          "base_uri": "https://localhost:8080/",
          "height": 910
        },
        "id": "pg44ckPebNxc",
        "outputId": "d83e414a-aff0-4b21-fca2-0f16a030464e"
      },
      "outputs": [
        {
          "output_type": "execute_result",
          "data": {
            "text/plain": [
              "[<matplotlib.lines.Line2D at 0x7f7369c51390>]"
            ]
          },
          "metadata": {},
          "execution_count": 61
        },
        {
          "output_type": "display_data",
          "data": {
            "text/plain": [
              "<Figure size 1080x1080 with 1 Axes>"
            ],
            "image/png": "[encoded data removed]"
          },
          "metadata": {
            "needs_background": "light"
          }
        }
      ],
      "source": [
        "plt.title('SkipGram Training Process')\n",
        "plt.xlabel('Itearations')\n",
        "plt.ylabel('Loss')\n",
        "plt.grid()\n",
        "plt.plot(losses)"
      ]
    },
    {
      "cell_type": "code",
      "execution_count": 62,
      "metadata": {
        "id": "twrhBLFvbNxd"
      },
      "outputs": [],
      "source": [
        "# проверка, что хоть что-то выучилось\n",
        "assert np.mean(losses[-1000:]) < 7.5"
      ]
    },
    {
      "cell_type": "code",
      "execution_count": 63,
      "metadata": {
        "id": "X-O2wG31bNxd"
      },
      "outputs": [],
      "source": [
        "embedding_matrix = model.in_embedding.weight.detach().cpu()"
      ]
    },
    {
      "cell_type": "code",
      "execution_count": 64,
      "metadata": {
        "id": "C-7bwikgbNxd"
      },
      "outputs": [],
      "source": [
        "def cos_sim(embedding_matrix, token2id, word1, word2):\n",
        "    \n",
        "    i1 = token2id[word1]\n",
        "    i2 = token2id[word2]\n",
        "    \n",
        "    v1, v2 = embedding_matrix[i1], embedding_matrix[i2]\n",
        "    \n",
        "    v1_n = v1.div(v1.norm(keepdim=True))\n",
        "    v2_n = v2.div(v2.norm(keepdim=True))\n",
        "    \n",
        "    similarity = torch.dot(v1_n, v2_n).item()\n",
        "    \n",
        "    return similarity"
      ]
    },
    {
      "cell_type": "markdown",
      "metadata": {
        "id": "UZLtOduRbNxd"
      },
      "source": [
        "# Косинусная близость\n",
        "От 0 до 1, где 0 - вектора абсолютно разные, где 1 - идентичные."
      ]
    },
    {
      "cell_type": "code",
      "execution_count": 65,
      "metadata": {
        "colab": {
          "base_uri": "https://localhost:8080/"
        },
        "id": "jLZE9sIibNxe",
        "outputId": "fb09bcbc-a5fa-43c4-d7fb-0f51225eab5c"
      },
      "outputs": [
        {
          "output_type": "execute_result",
          "data": {
            "text/plain": [
              "0.7486419081687927"
            ]
          },
          "metadata": {},
          "execution_count": 65
        }
      ],
      "source": [
        "cos_sim(embedding_matrix, word2index, 'день', 'месяц')"
      ]
    },
    {
      "cell_type": "code",
      "execution_count": 66,
      "metadata": {
        "colab": {
          "base_uri": "https://localhost:8080/"
        },
        "id": "jj6r1GUDbNxe",
        "outputId": "5f274551-6da5-4324-8e3d-6e121332ecce"
      },
      "outputs": [
        {
          "output_type": "execute_result",
          "data": {
            "text/plain": [
              "0.7229802012443542"
            ]
          },
          "metadata": {},
          "execution_count": 66
        }
      ],
      "source": [
        "cos_sim(embedding_matrix, word2index, 'минута', 'месяц')"
      ]
    },
    {
      "cell_type": "code",
      "execution_count": 67,
      "metadata": {
        "colab": {
          "base_uri": "https://localhost:8080/"
        },
        "id": "310JnprYbNxf",
        "outputId": "5c110789-4310-44da-c437-533040c7bc57"
      },
      "outputs": [
        {
          "output_type": "execute_result",
          "data": {
            "text/plain": [
              "0.8533894419670105"
            ]
          },
          "metadata": {},
          "execution_count": 67
        }
      ],
      "source": [
        "cos_sim(embedding_matrix, word2index, 'сотрудник', 'сотрудница')"
      ]
    },
    {
      "cell_type": "code",
      "execution_count": 68,
      "metadata": {
        "colab": {
          "base_uri": "https://localhost:8080/"
        },
        "id": "9aOlMgR9bNxf",
        "outputId": "ba49369c-efc9-4722-ecc5-490d38c342e6"
      },
      "outputs": [
        {
          "output_type": "execute_result",
          "data": {
            "text/plain": [
              "0.36608707904815674"
            ]
          },
          "metadata": {},
          "execution_count": 68
        }
      ],
      "source": [
        "cos_sim(embedding_matrix, word2index, 'вклад', 'перевод')"
      ]
    },
    {
      "cell_type": "code",
      "execution_count": 69,
      "metadata": {
        "colab": {
          "base_uri": "https://localhost:8080/",
          "height": 35
        },
        "id": "OWnnupG_bNxg",
        "outputId": "db221987-2c43-4c79-d7c8-3b5782578f80"
      },
      "outputs": [
        {
          "output_type": "execute_result",
          "data": {
            "text/plain": [
              "'Косинусная близость слова \"день\" к случайному выбраному слову \"положительно\" равна 0.369'"
            ],
            "application/vnd.google.colaboratory.intrinsic+json": {
              "type": "string"
            }
          },
          "metadata": {},
          "execution_count": 69
        }
      ],
      "source": [
        "random_word = random.choice(list(word2index.keys()))\n",
        "sim = cos_sim(embedding_matrix, word2index, 'день', random_word)\n",
        "'Косинусная близость слова \"день\" к случайному выбраному слову \"{}\" равна {:.3f}'.format(random_word, sim)"
      ]
    },
    {
      "cell_type": "code",
      "execution_count": 70,
      "metadata": {
        "id": "elE_ankBbNxg"
      },
      "outputs": [],
      "source": [
        "freq = {}\n",
        "\n",
        "for text in corpus:\n",
        "    for token in text:\n",
        "        if token in freq:\n",
        "            freq[token] += 1\n",
        "        else:\n",
        "            freq[token] = 1"
      ]
    },
    {
      "cell_type": "code",
      "execution_count": 71,
      "metadata": {
        "id": "DdfQtq5wbNxg"
      },
      "outputs": [],
      "source": [
        "sorted_freq = [(k, freq[k]) for k in sorted(freq, key=freq.get, reverse=True)]\n",
        "top_sorted_freq = sorted_freq[0:200]"
      ]
    },
    {
      "cell_type": "code",
      "execution_count": 72,
      "metadata": {
        "colab": {
          "base_uri": "https://localhost:8080/"
        },
        "id": "Z17mgb7ObNxg",
        "outputId": "2aaf6619-7db2-4e8e-d8da-df5226f994bf"
      },
      "outputs": [
        {
          "output_type": "stream",
          "name": "stderr",
          "text": [
            "/usr/local/lib/python3.7/dist-packages/sklearn/manifold/_t_sne.py:793: FutureWarning: The default learning rate in TSNE will change from 200.0 to 'auto' in 1.2.\n",
            "  FutureWarning,\n"
          ]
        },
        {
          "output_type": "stream",
          "name": "stdout",
          "text": [
            "[t-SNE] Computing 91 nearest neighbors...\n",
            "[t-SNE] Indexed 13076 samples in 0.001s...\n",
            "[t-SNE] Computed neighbors for 13076 samples in 4.387s...\n",
            "[t-SNE] Computed conditional probabilities for sample 1000 / 13076\n",
            "[t-SNE] Computed conditional probabilities for sample 2000 / 13076\n",
            "[t-SNE] Computed conditional probabilities for sample 3000 / 13076\n",
            "[t-SNE] Computed conditional probabilities for sample 4000 / 13076\n",
            "[t-SNE] Computed conditional probabilities for sample 5000 / 13076\n",
            "[t-SNE] Computed conditional probabilities for sample 6000 / 13076\n",
            "[t-SNE] Computed conditional probabilities for sample 7000 / 13076\n",
            "[t-SNE] Computed conditional probabilities for sample 8000 / 13076\n",
            "[t-SNE] Computed conditional probabilities for sample 9000 / 13076\n",
            "[t-SNE] Computed conditional probabilities for sample 10000 / 13076\n",
            "[t-SNE] Computed conditional probabilities for sample 11000 / 13076\n",
            "[t-SNE] Computed conditional probabilities for sample 12000 / 13076\n",
            "[t-SNE] Computed conditional probabilities for sample 13000 / 13076\n",
            "[t-SNE] Computed conditional probabilities for sample 13076 / 13076\n",
            "[t-SNE] Mean sigma: 1.023824\n",
            "[t-SNE] Computed conditional probabilities in 0.547s\n"
          ]
        },
        {
          "output_type": "stream",
          "name": "stderr",
          "text": [
            "/usr/local/lib/python3.7/dist-packages/sklearn/manifold/_t_sne.py:986: FutureWarning: The PCA initialization in TSNE will change to have the standard deviation of PC1 equal to 1e-4 in 1.2. This will ensure better convergence.\n",
            "  FutureWarning,\n"
          ]
        },
        {
          "output_type": "stream",
          "name": "stdout",
          "text": [
            "[t-SNE] Iteration 50: error = 97.3861694, gradient norm = 0.0001640 (50 iterations in 12.144s)\n",
            "[t-SNE] Iteration 100: error = 97.4188843, gradient norm = 0.0000029 (50 iterations in 5.602s)\n",
            "[t-SNE] Iteration 150: error = 97.4193115, gradient norm = 0.0000021 (50 iterations in 6.147s)\n",
            "[t-SNE] Iteration 200: error = 97.4193115, gradient norm = 0.0000023 (50 iterations in 4.812s)\n",
            "[t-SNE] Iteration 250: error = 97.4193115, gradient norm = 0.0000024 (50 iterations in 4.720s)\n",
            "[t-SNE] KL divergence after 250 iterations with early exaggeration: 97.419312\n",
            "[t-SNE] Iteration 300: error = 4.7772346, gradient norm = 0.0009376 (50 iterations in 5.498s)\n",
            "[t-SNE] Iteration 350: error = 4.2911625, gradient norm = 0.0005423 (50 iterations in 7.611s)\n",
            "[t-SNE] Iteration 400: error = 4.1680350, gradient norm = 0.0003071 (50 iterations in 6.462s)\n",
            "[t-SNE] Iteration 450: error = 4.0894976, gradient norm = 0.0002152 (50 iterations in 6.399s)\n",
            "[t-SNE] Iteration 500: error = 4.0320511, gradient norm = 0.0001691 (50 iterations in 6.407s)\n",
            "[t-SNE] Iteration 550: error = 3.9889512, gradient norm = 0.0001305 (50 iterations in 7.701s)\n",
            "[t-SNE] Iteration 600: error = 3.9539046, gradient norm = 0.0001149 (50 iterations in 7.270s)\n",
            "[t-SNE] Iteration 650: error = 3.9248130, gradient norm = 0.0000917 (50 iterations in 6.315s)\n",
            "[t-SNE] Iteration 700: error = 3.9002516, gradient norm = 0.0000786 (50 iterations in 6.372s)\n",
            "[t-SNE] Iteration 750: error = 3.8794198, gradient norm = 0.0000686 (50 iterations in 6.407s)\n",
            "[t-SNE] Iteration 800: error = 3.8616548, gradient norm = 0.0000595 (50 iterations in 6.261s)\n",
            "[t-SNE] Iteration 850: error = 3.8462420, gradient norm = 0.0000531 (50 iterations in 6.287s)\n",
            "[t-SNE] Iteration 900: error = 3.8328505, gradient norm = 0.0000491 (50 iterations in 6.478s)\n",
            "[t-SNE] Iteration 950: error = 3.8211417, gradient norm = 0.0000445 (50 iterations in 7.740s)\n",
            "[t-SNE] Iteration 1000: error = 3.8107970, gradient norm = 0.0000405 (50 iterations in 6.605s)\n",
            "[t-SNE] KL divergence after 1000 iterations: 3.810797\n"
          ]
        }
      ],
      "source": [
        "tsne = TSNE(n_components=2, init='pca', random_state=42, verbose=2)\n",
        "reduced = tsne.fit_transform(embedding_matrix)"
      ]
    },
    {
      "cell_type": "code",
      "execution_count": 73,
      "metadata": {
        "id": "PHxzyc4jbNxh"
      },
      "outputs": [],
      "source": [
        "top_words = [a for a,_ in top_sorted_freq]"
      ]
    },
    {
      "cell_type": "code",
      "execution_count": 74,
      "metadata": {
        "id": "Zphoab9ObNxh"
      },
      "outputs": [],
      "source": [
        "inds = [word2index[word] for word in top_words]\n",
        "x_coords = [coords[0] for coords in reduced[inds]]\n",
        "y_coords = [coords[1] for coords in reduced[inds]]"
      ]
    },
    {
      "cell_type": "code",
      "execution_count": 75,
      "metadata": {
        "id": "1DJI7mkMbNxi",
        "outputId": "73bc2d7b-a748-4bdf-a6ee-f12655af5e0e",
        "colab": {
          "base_uri": "https://localhost:8080/",
          "height": 863
        }
      },
      "outputs": [
        {
          "output_type": "display_data",
          "data": {
            "text/plain": [
              "<Figure size 1080x1080 with 1 Axes>"
            ],
            "image/png": "[encoded data removed]"
          },
          "metadata": {
            "needs_background": "light"
          }
        }
      ],
      "source": [
        "for (x, y, word) in zip(x_coords, y_coords, top_words):\n",
        "    plt.scatter(x, y, marker='.', color='blue')\n",
        "    plt.text(x+0.01, y+0.01, word, fontsize=9)\n",
        "plt.show(x)"
      ]
    },
    {
      "cell_type": "markdown",
      "source": [
        "# Оценка\n",
        "1. Вы добрались сюда и все работает, значит уже получили 7 баллов.\n",
        "2. 8 баллов - Взяли корпус для оценка качества эмбеддингов [здесь](https://rusvectores.org/static/testsets/ru_simlex965_tagged.tsv). Описание к нему [здесь](https://arxiv.org/pdf/1801.06407.pdf). Его английская версия для понимания, того что же это такое [тут](https://fh295.github.io/simlex.html). Если в кратце - он похож а гугл аналогии, просто иначе составлен. Определили качество своих эмбеддингов. Как качество измерить? Можете все значения отнормировать (привести к 1) и затем считать MSE между тем что у вас и что в оригинале.\n",
        "3. 9 баллов - Поставили эксперименты, поменяли любые параметры, хоть корпус увеличили или как то почистили. Показали метрики до и после. После должно быть лучше, иначе это все еще 8 баллов.\n",
        "4. 10 баллов - удивили своим подходом (или просто удивили) пока делили на 9 баллов"
      ],
      "metadata": {
        "collapsed": false,
        "id": "oM4CUjDcbNxj"
      }
    },
    {
      "cell_type": "markdown",
      "source": [
        "## Оценка эмбеддингов"
      ],
      "metadata": {
        "id": "kHZ-ioa5Hg2G"
      }
    },
    {
      "cell_type": "code",
      "source": [
        "import pandas as pd"
      ],
      "metadata": {
        "id": "iaUEPoFWHpYy"
      },
      "execution_count": 54,
      "outputs": []
    },
    {
      "cell_type": "code",
      "execution_count": 55,
      "outputs": [
        {
          "output_type": "execute_result",
          "data": {
            "text/plain": [
              "           # Word1            Word2  Average Score\n",
              "0      авария_NOUN    бедствие_NOUN           6.15\n",
              "1      август_NOUN       месяц_NOUN           2.85\n",
              "2     авиация_NOUN       полет_NOUN           6.77\n",
              "3  автомобиль_NOUN       гудок_NOUN           1.85\n",
              "4  автомобиль_NOUN  автострада_NOUN           1.23"
            ],
            "text/html": [
              "\n",
              "  <div id=\"df-3811b68e-f04e-4900-8642-5dd416c0de57\">\n",
              "    <div class=\"colab-df-container\">\n",
              "      <div>\n",
              "<style scoped>\n",
              "    .dataframe tbody tr th:only-of-type {\n",
              "        vertical-align: middle;\n",
              "    }\n",
              "\n",
              "    .dataframe tbody tr th {\n",
              "        vertical-align: top;\n",
              "    }\n",
              "\n",
              "    .dataframe thead th {\n",
              "        text-align: right;\n",
              "    }\n",
              "</style>\n",
              "<table border=\"1\" class=\"dataframe\">\n",
              "  <thead>\n",
              "    <tr style=\"text-align: right;\">\n",
              "      <th></th>\n",
              "      <th># Word1</th>\n",
              "      <th>Word2</th>\n",
              "      <th>Average Score</th>\n",
              "    </tr>\n",
              "  </thead>\n",
              "  <tbody>\n",
              "    <tr>\n",
              "      <th>0</th>\n",
              "      <td>авария_NOUN</td>\n",
              "      <td>бедствие_NOUN</td>\n",
              "      <td>6.15</td>\n",
              "    </tr>\n",
              "    <tr>\n",
              "      <th>1</th>\n",
              "      <td>август_NOUN</td>\n",
              "      <td>месяц_NOUN</td>\n",
              "      <td>2.85</td>\n",
              "    </tr>\n",
              "    <tr>\n",
              "      <th>2</th>\n",
              "      <td>авиация_NOUN</td>\n",
              "      <td>полет_NOUN</td>\n",
              "      <td>6.77</td>\n",
              "    </tr>\n",
              "    <tr>\n",
              "      <th>3</th>\n",
              "      <td>автомобиль_NOUN</td>\n",
              "      <td>гудок_NOUN</td>\n",
              "      <td>1.85</td>\n",
              "    </tr>\n",
              "    <tr>\n",
              "      <th>4</th>\n",
              "      <td>автомобиль_NOUN</td>\n",
              "      <td>автострада_NOUN</td>\n",
              "      <td>1.23</td>\n",
              "    </tr>\n",
              "  </tbody>\n",
              "</table>\n",
              "</div>\n",
              "      <button class=\"colab-df-convert\" onclick=\"convertToInteractive('df-3811b68e-f04e-4900-8642-5dd416c0de57')\"\n",
              "              title=\"Convert this dataframe to an interactive table.\"\n",
              "              style=\"display:none;\">\n",
              "        \n",
              "  <svg xmlns=\"http://www.w3.org/2000/svg\" height=\"24px\"viewBox=\"0 0 24 24\"\n",
              "       width=\"24px\">\n",
              "    <path d=\"M0 0h24v24H0V0z\" fill=\"none\"/>\n",
              "    <path d=\"M18.56 5.44l.94 2.06.94-2.06 2.06-.94-2.06-.94-.94-2.06-.94 2.06-2.06.94zm-11 1L8.5 8.5l.94-2.06 2.06-.94-2.06-.94L8.5 2.5l-.94 2.06-2.06.94zm10 10l.94 2.06.94-2.06 2.06-.94-2.06-.94-.94-2.06-.94 2.06-2.06.94z\"/><path d=\"M17.41 7.96l-1.37-1.37c-.4-.4-.92-.59-1.43-.59-.52 0-1.04.2-1.43.59L10.3 9.45l-7.72 7.72c-.78.78-.78 2.05 0 2.83L4 21.41c.39.39.9.59 1.41.59.51 0 1.02-.2 1.41-.59l7.78-7.78 2.81-2.81c.8-.78.8-2.07 0-2.86zM5.41 20L4 18.59l7.72-7.72 1.47 1.35L5.41 20z\"/>\n",
              "  </svg>\n",
              "      </button>\n",
              "      \n",
              "  <style>\n",
              "    .colab-df-container {\n",
              "      display:flex;\n",
              "      flex-wrap:wrap;\n",
              "      gap: 12px;\n",
              "    }\n",
              "\n",
              "    .colab-df-convert {\n",
              "      background-color: #E8F0FE;\n",
              "      border: none;\n",
              "      border-radius: 50%;\n",
              "      cursor: pointer;\n",
              "      display: none;\n",
              "      fill: #1967D2;\n",
              "      height: 32px;\n",
              "      padding: 0 0 0 0;\n",
              "      width: 32px;\n",
              "    }\n",
              "\n",
              "    .colab-df-convert:hover {\n",
              "      background-color: #E2EBFA;\n",
              "      box-shadow: 0px 1px 2px rgba(60, 64, 67, 0.3), 0px 1px 3px 1px rgba(60, 64, 67, 0.15);\n",
              "      fill: #174EA6;\n",
              "    }\n",
              "\n",
              "    [theme=dark] .colab-df-convert {\n",
              "      background-color: #3B4455;\n",
              "      fill: #D2E3FC;\n",
              "    }\n",
              "\n",
              "    [theme=dark] .colab-df-convert:hover {\n",
              "      background-color: #434B5C;\n",
              "      box-shadow: 0px 1px 3px 1px rgba(0, 0, 0, 0.15);\n",
              "      filter: drop-shadow(0px 1px 2px rgba(0, 0, 0, 0.3));\n",
              "      fill: #FFFFFF;\n",
              "    }\n",
              "  </style>\n",
              "\n",
              "      <script>\n",
              "        const buttonEl =\n",
              "          document.querySelector('#df-3811b68e-f04e-4900-8642-5dd416c0de57 button.colab-df-convert');\n",
              "        buttonEl.style.display =\n",
              "          google.colab.kernel.accessAllowed ? 'block' : 'none';\n",
              "\n",
              "        async function convertToInteractive(key) {\n",
              "          const element = document.querySelector('#df-3811b68e-f04e-4900-8642-5dd416c0de57');\n",
              "          const dataTable =\n",
              "            await google.colab.kernel.invokeFunction('convertToInteractive',\n",
              "                                                     [key], {});\n",
              "          if (!dataTable) return;\n",
              "\n",
              "          const docLinkHtml = 'Like what you see? Visit the ' +\n",
              "            '<a target=\"_blank\" href=https://colab.research.google.com/notebooks/data_table.ipynb>data table notebook</a>'\n",
              "            + ' to learn more about interactive tables.';\n",
              "          element.innerHTML = '';\n",
              "          dataTable['output_type'] = 'display_data';\n",
              "          await google.colab.output.renderOutput(dataTable, element);\n",
              "          const docLink = document.createElement('div');\n",
              "          docLink.innerHTML = docLinkHtml;\n",
              "          element.appendChild(docLink);\n",
              "        }\n",
              "      </script>\n",
              "    </div>\n",
              "  </div>\n",
              "  "
            ]
          },
          "metadata": {},
          "execution_count": 55
        }
      ],
      "source": [
        "word_pairs = pd.read_csv('https://rusvectores.org/static/testsets/ru_simlex965_tagged.tsv', sep = '\\t', header = 0)\n",
        "word_pairs.head()"
      ],
      "metadata": {
        "pycharm": {
          "name": "#%%\n"
        },
        "id": "tdpXQCetbNxj",
        "colab": {
          "base_uri": "https://localhost:8080/",
          "height": 206
        },
        "outputId": "147e77c6-ece3-423b-bec4-b9e4df52fc65"
      }
    },
    {
      "cell_type": "code",
      "source": [
        "def normalize(word):\n",
        "  return word.split('_')[0]\n",
        "\n",
        "def word_in_model(word):\n",
        "  return word in word2index\n",
        "\n",
        "word_pairs['# Word1'] = word_pairs['# Word1'].apply(normalize)\n",
        "word_pairs['Word2'] = word_pairs['Word2'].apply(normalize)\n",
        "word_pairs = word_pairs.loc[(word_pairs['# Word1'].apply(word_in_model) & word_pairs['Word2'].apply(word_in_model))]"
      ],
      "metadata": {
        "id": "6-DBNBvgRKWA"
      },
      "execution_count": 56,
      "outputs": []
    },
    {
      "cell_type": "code",
      "source": [
        "from sklearn.preprocessing import MinMaxScaler\n",
        "\n",
        "scaler = MinMaxScaler(feature_range = (0,1)) #как у косинусной близости\n",
        "word_pairs['Average Score'] = scaler.fit_transform(np.array(word_pairs['Average Score']).reshape(-1, 1))\n",
        "word_pairs['Cosine Similarity'] = [cos_sim(embedding_matrix, word2index, word1, word2) for word1, word2 in zip(word_pairs['# Word1'], word_pairs['Word2'])]"
      ],
      "metadata": {
        "id": "Avd482L8VENj"
      },
      "execution_count": 79,
      "outputs": []
    },
    {
      "cell_type": "code",
      "source": [
        "word_pairs.head()"
      ],
      "metadata": {
        "id": "E7Yd1J2RRDbs",
        "colab": {
          "base_uri": "https://localhost:8080/",
          "height": 206
        },
        "outputId": "e093ff82-9b77-41b1-b4bf-d6166d2750de"
      },
      "execution_count": 80,
      "outputs": [
        {
          "output_type": "execute_result",
          "data": {
            "text/plain": [
              "      # Word1      Word2  Average Score  Cosine Similarity\n",
              "1      август      месяц       0.287298           0.478507\n",
              "3  автомобиль      гудок       0.186492           0.327401\n",
              "5  автомобиль      такси       0.418347           0.539653\n",
              "7  автомобиль  велосипед       0.139113           0.652668\n",
              "9  автомобиль       мост       0.115927           0.431424"
            ],
            "text/html": [
              "\n",
              "  <div id=\"df-bf04d2d9-db2e-419d-839e-6eef0b21c5e6\">\n",
              "    <div class=\"colab-df-container\">\n",
              "      <div>\n",
              "<style scoped>\n",
              "    .dataframe tbody tr th:only-of-type {\n",
              "        vertical-align: middle;\n",
              "    }\n",
              "\n",
              "    .dataframe tbody tr th {\n",
              "        vertical-align: top;\n",
              "    }\n",
              "\n",
              "    .dataframe thead th {\n",
              "        text-align: right;\n",
              "    }\n",
              "</style>\n",
              "<table border=\"1\" class=\"dataframe\">\n",
              "  <thead>\n",
              "    <tr style=\"text-align: right;\">\n",
              "      <th></th>\n",
              "      <th># Word1</th>\n",
              "      <th>Word2</th>\n",
              "      <th>Average Score</th>\n",
              "      <th>Cosine Similarity</th>\n",
              "    </tr>\n",
              "  </thead>\n",
              "  <tbody>\n",
              "    <tr>\n",
              "      <th>1</th>\n",
              "      <td>август</td>\n",
              "      <td>месяц</td>\n",
              "      <td>0.287298</td>\n",
              "      <td>0.478507</td>\n",
              "    </tr>\n",
              "    <tr>\n",
              "      <th>3</th>\n",
              "      <td>автомобиль</td>\n",
              "      <td>гудок</td>\n",
              "      <td>0.186492</td>\n",
              "      <td>0.327401</td>\n",
              "    </tr>\n",
              "    <tr>\n",
              "      <th>5</th>\n",
              "      <td>автомобиль</td>\n",
              "      <td>такси</td>\n",
              "      <td>0.418347</td>\n",
              "      <td>0.539653</td>\n",
              "    </tr>\n",
              "    <tr>\n",
              "      <th>7</th>\n",
              "      <td>автомобиль</td>\n",
              "      <td>велосипед</td>\n",
              "      <td>0.139113</td>\n",
              "      <td>0.652668</td>\n",
              "    </tr>\n",
              "    <tr>\n",
              "      <th>9</th>\n",
              "      <td>автомобиль</td>\n",
              "      <td>мост</td>\n",
              "      <td>0.115927</td>\n",
              "      <td>0.431424</td>\n",
              "    </tr>\n",
              "  </tbody>\n",
              "</table>\n",
              "</div>\n",
              "      <button class=\"colab-df-convert\" onclick=\"convertToInteractive('df-bf04d2d9-db2e-419d-839e-6eef0b21c5e6')\"\n",
              "              title=\"Convert this dataframe to an interactive table.\"\n",
              "              style=\"display:none;\">\n",
              "        \n",
              "  <svg xmlns=\"http://www.w3.org/2000/svg\" height=\"24px\"viewBox=\"0 0 24 24\"\n",
              "       width=\"24px\">\n",
              "    <path d=\"M0 0h24v24H0V0z\" fill=\"none\"/>\n",
              "    <path d=\"M18.56 5.44l.94 2.06.94-2.06 2.06-.94-2.06-.94-.94-2.06-.94 2.06-2.06.94zm-11 1L8.5 8.5l.94-2.06 2.06-.94-2.06-.94L8.5 2.5l-.94 2.06-2.06.94zm10 10l.94 2.06.94-2.06 2.06-.94-2.06-.94-.94-2.06-.94 2.06-2.06.94z\"/><path d=\"M17.41 7.96l-1.37-1.37c-.4-.4-.92-.59-1.43-.59-.52 0-1.04.2-1.43.59L10.3 9.45l-7.72 7.72c-.78.78-.78 2.05 0 2.83L4 21.41c.39.39.9.59 1.41.59.51 0 1.02-.2 1.41-.59l7.78-7.78 2.81-2.81c.8-.78.8-2.07 0-2.86zM5.41 20L4 18.59l7.72-7.72 1.47 1.35L5.41 20z\"/>\n",
              "  </svg>\n",
              "      </button>\n",
              "      \n",
              "  <style>\n",
              "    .colab-df-container {\n",
              "      display:flex;\n",
              "      flex-wrap:wrap;\n",
              "      gap: 12px;\n",
              "    }\n",
              "\n",
              "    .colab-df-convert {\n",
              "      background-color: #E8F0FE;\n",
              "      border: none;\n",
              "      border-radius: 50%;\n",
              "      cursor: pointer;\n",
              "      display: none;\n",
              "      fill: #1967D2;\n",
              "      height: 32px;\n",
              "      padding: 0 0 0 0;\n",
              "      width: 32px;\n",
              "    }\n",
              "\n",
              "    .colab-df-convert:hover {\n",
              "      background-color: #E2EBFA;\n",
              "      box-shadow: 0px 1px 2px rgba(60, 64, 67, 0.3), 0px 1px 3px 1px rgba(60, 64, 67, 0.15);\n",
              "      fill: #174EA6;\n",
              "    }\n",
              "\n",
              "    [theme=dark] .colab-df-convert {\n",
              "      background-color: #3B4455;\n",
              "      fill: #D2E3FC;\n",
              "    }\n",
              "\n",
              "    [theme=dark] .colab-df-convert:hover {\n",
              "      background-color: #434B5C;\n",
              "      box-shadow: 0px 1px 3px 1px rgba(0, 0, 0, 0.15);\n",
              "      filter: drop-shadow(0px 1px 2px rgba(0, 0, 0, 0.3));\n",
              "      fill: #FFFFFF;\n",
              "    }\n",
              "  </style>\n",
              "\n",
              "      <script>\n",
              "        const buttonEl =\n",
              "          document.querySelector('#df-bf04d2d9-db2e-419d-839e-6eef0b21c5e6 button.colab-df-convert');\n",
              "        buttonEl.style.display =\n",
              "          google.colab.kernel.accessAllowed ? 'block' : 'none';\n",
              "\n",
              "        async function convertToInteractive(key) {\n",
              "          const element = document.querySelector('#df-bf04d2d9-db2e-419d-839e-6eef0b21c5e6');\n",
              "          const dataTable =\n",
              "            await google.colab.kernel.invokeFunction('convertToInteractive',\n",
              "                                                     [key], {});\n",
              "          if (!dataTable) return;\n",
              "\n",
              "          const docLinkHtml = 'Like what you see? Visit the ' +\n",
              "            '<a target=\"_blank\" href=https://colab.research.google.com/notebooks/data_table.ipynb>data table notebook</a>'\n",
              "            + ' to learn more about interactive tables.';\n",
              "          element.innerHTML = '';\n",
              "          dataTable['output_type'] = 'display_data';\n",
              "          await google.colab.output.renderOutput(dataTable, element);\n",
              "          const docLink = document.createElement('div');\n",
              "          docLink.innerHTML = docLinkHtml;\n",
              "          element.appendChild(docLink);\n",
              "        }\n",
              "      </script>\n",
              "    </div>\n",
              "  </div>\n",
              "  "
            ]
          },
          "metadata": {},
          "execution_count": 80
        }
      ]
    },
    {
      "cell_type": "code",
      "source": [
        "mse = sum([(real - predicted)**2 for real, predicted in zip(word_pairs['Average Score'], word_pairs['Cosine Similarity'])])/word_pairs.shape[0]\n",
        "mse"
      ],
      "metadata": {
        "colab": {
          "base_uri": "https://localhost:8080/"
        },
        "id": "eMJwWGg-aIZR",
        "outputId": "b5ca758a-ea80-40b1-df2f-f39baa86a5e2"
      },
      "execution_count": 81,
      "outputs": [
        {
          "output_type": "execute_result",
          "data": {
            "text/plain": [
              "0.12979263410878042"
            ]
          },
          "metadata": {},
          "execution_count": 81
        }
      ]
    },
    {
      "cell_type": "markdown",
      "source": [
        "## Эксперименты"
      ],
      "metadata": {
        "id": "c02_T1LebIvk"
      }
    },
    {
      "cell_type": "code",
      "source": [
        "results = []\n",
        "\n",
        "\n",
        "#добавяем параметры оригинальной модели\n",
        "results.append(\n",
        "    {\n",
        "        'emb_size': 20,\n",
        "        'lr': 0.0001,\n",
        "        'epochs': 3,\n",
        "        'mse': 0.12979263410878042,\n",
        "        'original': True\n",
        "    }\n",
        ")"
      ],
      "metadata": {
        "id": "Tbtm6C092F0m"
      },
      "execution_count": 58,
      "outputs": []
    },
    {
      "cell_type": "markdown",
      "source": [
        "## Эпохи"
      ],
      "metadata": {
        "id": "ZCa7co5uT6SS"
      }
    },
    {
      "cell_type": "code",
      "source": [
        "#попробуем изменить количество эпох\n",
        "#на 10\n",
        "\n",
        "class SkipGram(torch.nn.Module):\n",
        "\n",
        "  def __init__(self, vocab_size, embedding_dim):\n",
        "\n",
        "    super().__init__()\n",
        "\n",
        "    self.in_embedding = torch.nn.Embedding(num_embeddings=vocab_size, \n",
        "                                               embedding_dim=embedding_dim)\n",
        "    self.out_embedding = torch.nn.Linear(in_features=embedding_dim,\n",
        "                                             out_features=vocab_size, bias = False)\n",
        "    \n",
        "  def forward(self, x):\n",
        "    \n",
        "    x = self.in_embedding(x)\n",
        "    x = self.out_embedding(x)\n",
        "        \n",
        "    return x\n",
        "\n",
        "num_embedding_dim = 20\n",
        "num_learning_rate = 0.0001\n",
        "num_epochs = 10\n",
        "\n",
        "model = SkipGram(vocab_size=len(word2index), embedding_dim=num_embedding_dim)\n",
        "optimizer = torch.optim.Adam(params=model.parameters(), lr=num_learning_rate)\n",
        "criterion = torch.nn.CrossEntropyLoss()\n",
        "\n",
        "losses = []\n",
        "model.train()\n",
        "device = torch.device('cuda:0')\n",
        "model.to(device)\n",
        "\n",
        "for n_epoch in range(num_epochs):\n",
        "    \n",
        "  try:\n",
        "    progress_bar = tqdm(total=len(dataset_loader.dataset), desc='Epoch {}'.format(n_epoch + 1))\n",
        "\n",
        "    for x, y in dataset_loader:\n",
        "      x = x.to(device)\n",
        "      y = y.to(device)\n",
        "      optimizer.zero_grad()\n",
        "      pred = model(x)\n",
        "      loss = criterion(pred, y)\n",
        "      loss.backward()\n",
        "      optimizer.step()\n",
        "      losses.append(loss.item())\n",
        "\n",
        "      progress_bar.set_postfix(loss=np.mean(losses[-100:]))\n",
        "      progress_bar.update(x.shape[0])\n",
        "      progress_bar.close()\n",
        "\n",
        "  except KeyboardInterrupt:\n",
        "      progress_bar.close()\n",
        "      break\n",
        "\n"
      ],
      "metadata": {
        "id": "pDjh9i3nSKuq"
      },
      "execution_count": null,
      "outputs": []
    },
    {
      "cell_type": "code",
      "source": [
        "def cos_sim(embedding_matrix, token2id, word1, word2):\n",
        "    \n",
        "    i1 = token2id[word1]\n",
        "    i2 = token2id[word2]\n",
        "    \n",
        "    v1, v2 = embedding_matrix[i1], embedding_matrix[i2]\n",
        "    \n",
        "    v1_n = v1.div(v1.norm(keepdim=True))\n",
        "    v2_n = v2.div(v2.norm(keepdim=True))\n",
        "    \n",
        "    similarity = torch.dot(v1_n, v2_n).item()\n",
        "    \n",
        "    return similarity"
      ],
      "metadata": {
        "id": "5hgyqv1WT0bK"
      },
      "execution_count": 60,
      "outputs": []
    },
    {
      "cell_type": "code",
      "source": [
        "embedding_matrix = model.in_embedding.weight.detach().cpu()\n",
        "similarity_exp = [cos_sim(embedding_matrix, word2index, word1, word2) for word1, word2 in zip(word_pairs['# Word1'], word_pairs['Word2'])]\n",
        "mse = sum([(real - predicted)**2 for real, predicted in zip(word_pairs['Average Score'], similarity_exp)])/word_pairs.shape[0]\n",
        "\n",
        "results.append({\n",
        "              'emb_size': num_embedding_dim,\n",
        "              'lr': num_learning_rate,\n",
        "              'epochs': num_epochs,\n",
        "              'mse': mse,\n",
        "              'original': False\n",
        "          })"
      ],
      "metadata": {
        "id": "g6LblgIrT3Zm"
      },
      "execution_count": 61,
      "outputs": []
    },
    {
      "cell_type": "code",
      "source": [
        "#попробуем изменить количество эпох\n",
        "#на 50\n",
        "\n",
        "class SkipGram(torch.nn.Module):\n",
        "\n",
        "  def __init__(self, vocab_size, embedding_dim):\n",
        "\n",
        "    super().__init__()\n",
        "\n",
        "    self.in_embedding = torch.nn.Embedding(num_embeddings=vocab_size, \n",
        "                                               embedding_dim=embedding_dim)\n",
        "    self.out_embedding = torch.nn.Linear(in_features=embedding_dim,\n",
        "                                             out_features=vocab_size, bias = False)\n",
        "    \n",
        "  def forward(self, x):\n",
        "    \n",
        "    x = self.in_embedding(x)\n",
        "    x = self.out_embedding(x)\n",
        "        \n",
        "    return x\n",
        "\n",
        "num_embedding_dim = 20\n",
        "num_learning_rate = 0.0001\n",
        "num_epochs = 50\n",
        "\n",
        "model = SkipGram(vocab_size=len(word2index), embedding_dim=num_embedding_dim)\n",
        "optimizer = torch.optim.Adam(params=model.parameters(), lr=num_learning_rate)\n",
        "criterion = torch.nn.CrossEntropyLoss()\n",
        "\n",
        "losses = []\n",
        "model.train()\n",
        "device = torch.device('cuda:0')\n",
        "model.to(device)\n",
        "\n",
        "for n_epoch in range(num_epochs):\n",
        "    \n",
        "  try:\n",
        "    progress_bar = tqdm(total=len(dataset_loader.dataset), desc='Epoch {}'.format(n_epoch + 1))\n",
        "\n",
        "    for x, y in dataset_loader:\n",
        "      x = x.to(device)\n",
        "      y = y.to(device)\n",
        "      optimizer.zero_grad()\n",
        "      pred = model(x)\n",
        "      loss = criterion(pred, y)\n",
        "      loss.backward()\n",
        "      optimizer.step()\n",
        "      losses.append(loss.item())\n",
        "\n",
        "      progress_bar.set_postfix(loss=np.mean(losses[-100:]))\n",
        "      progress_bar.update(x.shape[0])\n",
        "      progress_bar.close()\n",
        "\n",
        "  except KeyboardInterrupt:\n",
        "      progress_bar.close()\n",
        "      break\n",
        "\n"
      ],
      "metadata": {
        "colab": {
          "base_uri": "https://localhost:8080/"
        },
        "id": "fqpcD8EmT_2z",
        "outputId": "2809f392-46e9-495e-87b2-84e8f3a5b694"
      },
      "execution_count": 62,
      "outputs": [
        {
          "output_type": "stream",
          "name": "stderr",
          "text": [
            "Epoch 1:   0%|          | 512/2983124 [00:00<21:52, 2272.61it/s, loss=9.66]\n",
            "Epoch 2:   0%|          | 512/2983124 [00:00<19:06, 2601.22it/s, loss=9.16]\n",
            "Epoch 3:   0%|          | 512/2983124 [00:00<18:29, 2689.31it/s, loss=8.24]\n",
            "Epoch 4:   0%|          | 512/2983124 [00:00<19:46, 2513.65it/s, loss=7.69]\n",
            "Epoch 5:   0%|          | 512/2983124 [00:00<18:09, 2737.25it/s, loss=7.44]\n",
            "Epoch 6:   0%|          | 512/2983124 [00:00<18:34, 2677.16it/s, loss=7.29]\n",
            "Epoch 7:   0%|          | 512/2983124 [00:00<19:00, 2614.57it/s, loss=7.23]\n",
            "Epoch 8:   0%|          | 512/2983124 [00:00<19:22, 2566.72it/s, loss=7.14]\n",
            "Epoch 9:   0%|          | 512/2983124 [00:00<19:01, 2612.56it/s, loss=7.11]\n",
            "Epoch 10:   0%|          | 512/2983124 [00:00<18:49, 2639.54it/s, loss=7.08]\n",
            "Epoch 11:   0%|          | 512/2983124 [00:00<18:55, 2627.10it/s, loss=7.06]\n",
            "Epoch 12:   0%|          | 512/2983124 [00:00<18:35, 2674.58it/s, loss=7.01]\n",
            "Epoch 13:   0%|          | 512/2983124 [00:00<18:09, 2738.70it/s, loss=7.01]\n",
            "Epoch 14:   0%|          | 512/2983124 [00:00<19:33, 2540.72it/s, loss=6.99]\n",
            "Epoch 15:   0%|          | 512/2983124 [00:00<19:40, 2527.31it/s, loss=6.98]\n",
            "Epoch 16:   0%|          | 512/2983124 [00:00<18:55, 2625.73it/s, loss=6.97]\n",
            "Epoch 17:   0%|          | 512/2983124 [00:00<18:21, 2706.86it/s, loss=6.96]\n",
            "Epoch 18:   0%|          | 512/2983124 [00:00<19:15, 2581.60it/s, loss=6.92]\n",
            "Epoch 19:   0%|          | 512/2983124 [00:00<18:19, 2712.24it/s, loss=6.9]\n",
            "Epoch 20:   0%|          | 512/2983124 [00:00<19:03, 2609.26it/s, loss=6.91]\n",
            "Epoch 21:   0%|          | 512/2983124 [00:00<18:36, 2671.72it/s, loss=6.89]\n",
            "Epoch 22:   0%|          | 512/2983124 [00:00<19:00, 2615.60it/s, loss=6.88]\n",
            "Epoch 23:   0%|          | 512/2983124 [00:00<18:36, 2672.37it/s, loss=6.88]\n",
            "Epoch 24:   0%|          | 512/2983124 [00:00<18:19, 2712.61it/s, loss=6.89]\n",
            "Epoch 25:   0%|          | 512/2983124 [00:00<19:40, 2526.81it/s, loss=6.89]\n",
            "Epoch 26:   0%|          | 512/2983124 [00:00<18:14, 2724.29it/s, loss=6.86]\n",
            "Epoch 27:   0%|          | 512/2983124 [00:00<18:34, 2676.36it/s, loss=6.86]\n",
            "Epoch 28:   0%|          | 512/2983124 [00:00<18:04, 2749.82it/s, loss=6.84]\n",
            "Epoch 29:   0%|          | 512/2983124 [00:00<18:31, 2682.23it/s, loss=6.86]\n",
            "Epoch 30:   0%|          | 512/2983124 [00:00<18:10, 2734.51it/s, loss=6.83]\n",
            "Epoch 31:   0%|          | 512/2983124 [00:00<19:19, 2571.79it/s, loss=6.85]\n",
            "Epoch 32:   0%|          | 512/2983124 [00:00<18:44, 2653.22it/s, loss=6.82]\n",
            "Epoch 33:   0%|          | 512/2983124 [00:00<19:11, 2589.61it/s, loss=6.82]\n",
            "Epoch 34:   0%|          | 512/2983124 [00:00<19:15, 2581.02it/s, loss=6.8]\n",
            "Epoch 35:   0%|          | 512/2983124 [00:00<18:58, 2620.59it/s, loss=6.82]\n",
            "Epoch 36:   0%|          | 512/2983124 [00:00<18:54, 2630.10it/s, loss=6.81]\n",
            "Epoch 37:   0%|          | 512/2983124 [00:00<18:26, 2694.67it/s, loss=6.8]\n",
            "Epoch 38:   0%|          | 512/2983124 [00:00<18:59, 2618.53it/s, loss=6.79]\n",
            "Epoch 39:   0%|          | 512/2983124 [00:00<18:50, 2637.23it/s, loss=6.8]\n",
            "Epoch 40:   0%|          | 512/2983124 [00:00<18:46, 2647.59it/s, loss=6.8]\n",
            "Epoch 41:   0%|          | 512/2983124 [00:00<19:13, 2584.62it/s, loss=6.79]\n",
            "Epoch 42:   0%|          | 512/2983124 [00:00<18:17, 2717.61it/s, loss=6.79]\n",
            "Epoch 43:   0%|          | 512/2983124 [00:00<18:14, 2724.85it/s, loss=6.79]\n",
            "Epoch 44:   0%|          | 512/2983124 [00:00<19:13, 2584.90it/s, loss=6.77]\n",
            "Epoch 45:   0%|          | 512/2983124 [00:00<19:36, 2535.38it/s, loss=6.78]\n",
            "Epoch 46:   0%|          | 512/2983124 [00:00<18:19, 2712.24it/s, loss=6.76]\n",
            "Epoch 47:   0%|          | 512/2983124 [00:00<18:30, 2684.88it/s, loss=6.77]\n",
            "Epoch 48:   0%|          | 512/2983124 [00:00<19:19, 2572.37it/s, loss=6.75]\n",
            "Epoch 49:   0%|          | 512/2983124 [00:00<18:58, 2618.79it/s, loss=6.77]\n",
            "Epoch 50:   0%|          | 512/2983124 [00:00<18:08, 2738.89it/s, loss=6.73]\n"
          ]
        }
      ]
    },
    {
      "cell_type": "code",
      "source": [
        "plt.title('SkipGram Training Process')\n",
        "plt.xlabel('Itearations')\n",
        "plt.ylabel('Loss')\n",
        "plt.grid()\n",
        "plt.plot(losses)"
      ],
      "metadata": {
        "colab": {
          "base_uri": "https://localhost:8080/",
          "height": 910
        },
        "id": "P1VWmbwuWETb",
        "outputId": "7baa5023-3ffb-4773-f8d5-910361114660"
      },
      "execution_count": 63,
      "outputs": [
        {
          "output_type": "execute_result",
          "data": {
            "text/plain": [
              "[<matplotlib.lines.Line2D at 0x7f4dce637350>]"
            ]
          },
          "metadata": {},
          "execution_count": 63
        },
        {
          "output_type": "display_data",
          "data": {
            "text/plain": [
              "<Figure size 1080x1080 with 1 Axes>"
            ],
            "image/png": "[encoded data removed]"
          },
          "metadata": {
            "needs_background": "light"
          }
        }
      ]
    },
    {
      "cell_type": "code",
      "source": [
        "embedding_matrix = model.in_embedding.weight.detach().cpu()\n",
        "similarity_exp = [cos_sim(embedding_matrix, word2index, word1, word2) for word1, word2 in zip(word_pairs['# Word1'], word_pairs['Word2'])]\n",
        "mse = sum([(real - predicted)**2 for real, predicted in zip(word_pairs['Average Score'], similarity_exp)])/word_pairs.shape[0]\n",
        "\n",
        "results.append({\n",
        "              'emb_size': num_embedding_dim,\n",
        "              'lr': num_learning_rate,\n",
        "              'epochs': num_epochs,\n",
        "              'mse': mse,\n",
        "              'original': False\n",
        "          })"
      ],
      "metadata": {
        "id": "t2PPb1tiUrl3"
      },
      "execution_count": 64,
      "outputs": []
    },
    {
      "cell_type": "code",
      "source": [
        "results"
      ],
      "metadata": {
        "colab": {
          "base_uri": "https://localhost:8080/"
        },
        "id": "4J7ZeWMjXI10",
        "outputId": "03dbaa91-2bf5-4bc6-9280-1e6f056674fc"
      },
      "execution_count": 66,
      "outputs": [
        {
          "output_type": "execute_result",
          "data": {
            "text/plain": [
              "[{'emb_size': 20,\n",
              "  'lr': 0.0001,\n",
              "  'epochs': 3,\n",
              "  'mse': 0.12979263410878042,\n",
              "  'original': True},\n",
              " {'emb_size': 20,\n",
              "  'lr': 0.0001,\n",
              "  'epochs': 10,\n",
              "  'mse': 0.19394457649419716,\n",
              "  'original': False},\n",
              " {'emb_size': 20,\n",
              "  'lr': 0.0001,\n",
              "  'epochs': 50,\n",
              "  'mse': 0.1505278921005295,\n",
              "  'original': False}]"
            ]
          },
          "metadata": {},
          "execution_count": 66
        }
      ]
    },
    {
      "cell_type": "markdown",
      "source": [
        "## Размер эмбеддингов"
      ],
      "metadata": {
        "id": "Etr-ExtMXRFi"
      }
    },
    {
      "cell_type": "code",
      "source": [
        "#Чем больше эпох, тем лучше качество, попробуем стандартный для эмбеддингов размер в 300\n",
        "\n",
        "#попробуем изменить количество эпох\n",
        "#на 50\n",
        "\n",
        "class SkipGram(torch.nn.Module):\n",
        "\n",
        "  def __init__(self, vocab_size, embedding_dim):\n",
        "\n",
        "    super().__init__()\n",
        "\n",
        "    self.in_embedding = torch.nn.Embedding(num_embeddings=vocab_size, \n",
        "                                               embedding_dim=embedding_dim)\n",
        "    self.out_embedding = torch.nn.Linear(in_features=embedding_dim,\n",
        "                                             out_features=vocab_size, bias = False)\n",
        "    \n",
        "  def forward(self, x):\n",
        "    \n",
        "    x = self.in_embedding(x)\n",
        "    x = self.out_embedding(x)\n",
        "        \n",
        "    return x\n",
        "\n",
        "num_embedding_dim = 300\n",
        "num_learning_rate = 0.0001\n",
        "num_epochs = 100\n",
        "\n",
        "model = SkipGram(vocab_size=len(word2index), embedding_dim=num_embedding_dim)\n",
        "optimizer = torch.optim.Adam(params=model.parameters(), lr=num_learning_rate)\n",
        "criterion = torch.nn.CrossEntropyLoss()\n",
        "\n",
        "losses = []\n",
        "model.train()\n",
        "device = torch.device('cuda:0')\n",
        "model.to(device)\n",
        "\n",
        "for n_epoch in range(num_epochs):\n",
        "    \n",
        "  try:\n",
        "    progress_bar = tqdm(total=len(dataset_loader.dataset), desc='Epoch {}'.format(n_epoch + 1))\n",
        "\n",
        "    for x, y in dataset_loader:\n",
        "      x = x.to(device)\n",
        "      y = y.to(device)\n",
        "      optimizer.zero_grad()\n",
        "      pred = model(x)\n",
        "      loss = criterion(pred, y)\n",
        "      loss.backward()\n",
        "      optimizer.step()\n",
        "      losses.append(loss.item())\n",
        "\n",
        "      progress_bar.set_postfix(loss=np.mean(losses[-100:]))\n",
        "      progress_bar.update(x.shape[0])\n",
        "      progress_bar.close()\n",
        "\n",
        "  except KeyboardInterrupt:\n",
        "      progress_bar.close()\n",
        "      break"
      ],
      "metadata": {
        "colab": {
          "base_uri": "https://localhost:8080/"
        },
        "id": "hWSqyLgEXUVy",
        "outputId": "e32ca9de-66cf-468a-c6e6-718eb3e1f029"
      },
      "execution_count": 68,
      "outputs": [
        {
          "output_type": "stream",
          "name": "stderr",
          "text": [
            "Epoch 1:   0%|          | 512/2983124 [00:00<19:55, 2494.33it/s, loss=9.63]\n",
            "Epoch 2:   0%|          | 512/2983124 [00:00<31:25, 1581.60it/s, loss=7.48]\n",
            "Epoch 3:   0%|          | 512/2983124 [00:00<22:07, 2247.49it/s, loss=7]\n",
            "Epoch 4:   0%|          | 512/2983124 [00:00<18:36, 2670.83it/s, loss=6.85]\n",
            "Epoch 5:   0%|          | 512/2983124 [00:00<20:21, 2440.77it/s, loss=6.75]\n",
            "Epoch 6:   0%|          | 512/2983124 [00:00<18:51, 2636.85it/s, loss=6.64]\n",
            "Epoch 7:   0%|          | 512/2983124 [00:00<19:24, 2560.52it/s, loss=6.62]\n",
            "Epoch 8:   0%|          | 512/2983124 [00:00<18:49, 2639.68it/s, loss=6.56]\n",
            "Epoch 9:   0%|          | 512/2983124 [00:00<19:09, 2594.42it/s, loss=6.52]\n",
            "Epoch 10:   0%|          | 512/2983124 [00:00<19:05, 2602.95it/s, loss=6.49]\n",
            "Epoch 11:   0%|          | 512/2983124 [00:00<18:14, 2725.75it/s, loss=6.47]\n",
            "Epoch 12:   0%|          | 512/2983124 [00:00<19:24, 2562.25it/s, loss=6.43]\n",
            "Epoch 13:   0%|          | 512/2983124 [00:00<19:01, 2612.48it/s, loss=6.43]\n",
            "Epoch 14:   0%|          | 512/2983124 [00:00<18:44, 2651.21it/s, loss=6.41]\n",
            "Epoch 15:   0%|          | 512/2983124 [00:00<18:59, 2617.69it/s, loss=6.37]\n",
            "Epoch 16:   0%|          | 512/2983124 [00:00<18:28, 2690.77it/s, loss=6.37]\n",
            "Epoch 17:   0%|          | 512/2983124 [00:00<19:24, 2560.64it/s, loss=6.35]\n",
            "Epoch 18:   0%|          | 512/2983124 [00:00<18:41, 2659.27it/s, loss=6.34]\n",
            "Epoch 19:   0%|          | 512/2983124 [00:00<18:14, 2725.13it/s, loss=6.32]\n",
            "Epoch 20:   0%|          | 512/2983124 [00:00<18:28, 2691.44it/s, loss=6.31]\n",
            "Epoch 21:   0%|          | 512/2983124 [00:00<18:27, 2693.45it/s, loss=6.31]\n",
            "Epoch 22:   0%|          | 512/2983124 [00:00<17:45, 2798.56it/s, loss=6.29]\n",
            "Epoch 23:   0%|          | 512/2983124 [00:00<17:23, 2857.46it/s, loss=6.28]\n",
            "Epoch 24:   0%|          | 512/2983124 [00:00<17:47, 2794.21it/s, loss=6.26]\n",
            "Epoch 25:   0%|          | 512/2983124 [00:00<17:31, 2837.17it/s, loss=6.25]\n",
            "Epoch 26:   0%|          | 512/2983124 [00:00<28:00, 1775.29it/s, loss=6.28]\n",
            "Epoch 27:   0%|          | 512/2983124 [00:00<18:10, 2735.31it/s, loss=6.24]\n",
            "Epoch 28:   0%|          | 512/2983124 [00:00<18:12, 2729.42it/s, loss=6.25]\n",
            "Epoch 29:   0%|          | 512/2983124 [00:00<18:15, 2721.44it/s, loss=6.24]\n",
            "Epoch 30:   0%|          | 512/2983124 [00:00<18:01, 2758.13it/s, loss=6.22]\n",
            "Epoch 31:   0%|          | 512/2983124 [00:00<19:48, 2508.90it/s, loss=6.23]\n",
            "Epoch 32:   0%|          | 512/2983124 [00:00<18:19, 2713.03it/s, loss=6.2]\n",
            "Epoch 33:   0%|          | 512/2983124 [00:00<18:16, 2720.60it/s, loss=6.2]\n",
            "Epoch 34:   0%|          | 512/2983124 [00:00<19:19, 2573.38it/s, loss=6.21]\n",
            "Epoch 35:   0%|          | 512/2983124 [00:00<18:00, 2761.15it/s, loss=6.2]\n",
            "Epoch 36:   0%|          | 512/2983124 [00:00<18:03, 2752.53it/s, loss=6.2]\n",
            "Epoch 37:   0%|          | 512/2983124 [00:00<18:18, 2715.86it/s, loss=6.17]\n",
            "Epoch 38:   0%|          | 512/2983124 [00:00<17:43, 2805.09it/s, loss=6.18]\n",
            "Epoch 39:   0%|          | 512/2983124 [00:00<17:48, 2790.98it/s, loss=6.18]\n",
            "Epoch 40:   0%|          | 512/2983124 [00:00<18:51, 2635.09it/s, loss=6.19]\n",
            "Epoch 41:   0%|          | 512/2983124 [00:00<18:54, 2628.71it/s, loss=6.17]\n",
            "Epoch 42:   0%|          | 512/2983124 [00:00<18:13, 2726.62it/s, loss=6.17]\n",
            "Epoch 43:   0%|          | 512/2983124 [00:00<19:07, 2600.03it/s, loss=6.15]\n",
            "Epoch 44:   0%|          | 512/2983124 [00:00<17:43, 2803.70it/s, loss=6.15]\n",
            "Epoch 45:   0%|          | 512/2983124 [00:00<17:46, 2796.45it/s, loss=6.15]\n",
            "Epoch 46:   0%|          | 512/2983124 [00:00<18:01, 2758.98it/s, loss=6.13]\n",
            "Epoch 47:   0%|          | 512/2983124 [00:00<19:07, 2598.77it/s, loss=6.15]\n",
            "Epoch 48:   0%|          | 512/2983124 [00:00<18:01, 2758.68it/s, loss=6.15]\n",
            "Epoch 49:   0%|          | 512/2983124 [00:00<19:03, 2607.45it/s, loss=6.12]\n",
            "Epoch 50:   0%|          | 512/2983124 [00:00<18:11, 2733.59it/s, loss=6.14]\n",
            "Epoch 51:   0%|          | 512/2983124 [00:00<17:38, 2818.16it/s, loss=6.12]\n",
            "Epoch 52:   0%|          | 512/2983124 [00:00<18:02, 2755.54it/s, loss=6.12]\n",
            "Epoch 53:   0%|          | 512/2983124 [00:00<27:37, 1799.23it/s, loss=6.11]\n",
            "Epoch 54:   0%|          | 512/2983124 [00:00<18:13, 2727.68it/s, loss=6.14]\n",
            "Epoch 55:   0%|          | 512/2983124 [00:00<18:21, 2707.54it/s, loss=6.11]\n",
            "Epoch 56:   0%|          | 512/2983124 [00:00<17:24, 2855.40it/s, loss=6.11]\n",
            "Epoch 57:   0%|          | 512/2983124 [00:00<18:05, 2747.22it/s, loss=6.12]\n",
            "Epoch 58:   0%|          | 512/2983124 [00:00<17:38, 2816.63it/s, loss=6.1]\n",
            "Epoch 59:   0%|          | 512/2983124 [00:00<17:43, 2803.64it/s, loss=6.11]\n",
            "Epoch 60:   0%|          | 512/2983124 [00:00<18:45, 2650.50it/s, loss=6.1]\n",
            "Epoch 61:   0%|          | 512/2983124 [00:00<19:38, 2530.02it/s, loss=6.09]\n",
            "Epoch 62:   0%|          | 512/2983124 [00:00<17:36, 2823.56it/s, loss=6.1]\n",
            "Epoch 63:   0%|          | 512/2983124 [00:00<19:28, 2553.37it/s, loss=6.08]\n",
            "Epoch 64:   0%|          | 512/2983124 [00:00<26:21, 1885.64it/s, loss=6.08]\n",
            "Epoch 65:   0%|          | 512/2983124 [00:00<17:20, 2866.75it/s, loss=6.1]\n",
            "Epoch 66:   0%|          | 512/2983124 [00:00<17:40, 2812.17it/s, loss=6.09]\n",
            "Epoch 67:   0%|          | 512/2983124 [00:00<17:37, 2819.16it/s, loss=6.1]\n",
            "Epoch 68:   0%|          | 512/2983124 [00:00<17:35, 2824.65it/s, loss=6.09]\n",
            "Epoch 69:   0%|          | 512/2983124 [00:00<17:06, 2906.28it/s, loss=6.07]\n",
            "Epoch 70:   0%|          | 512/2983124 [00:00<17:21, 2864.37it/s, loss=6.07]\n",
            "Epoch 71:   0%|          | 512/2983124 [00:00<18:13, 2726.48it/s, loss=6.07]\n",
            "Epoch 72:   0%|          | 512/2983124 [00:00<18:52, 2633.72it/s, loss=6.06]\n",
            "Epoch 73:   0%|          | 512/2983124 [00:00<17:14, 2883.59it/s, loss=6.06]\n",
            "Epoch 74:   0%|          | 512/2983124 [00:00<17:05, 2908.83it/s, loss=6.07]\n",
            "Epoch 75:   0%|          | 512/2983124 [00:00<16:48, 2956.83it/s, loss=6.06]\n",
            "Epoch 76:   0%|          | 512/2983124 [00:00<18:31, 2684.02it/s, loss=6.06]\n",
            "Epoch 77:   0%|          | 512/2983124 [00:00<18:06, 2745.80it/s, loss=6.05]\n",
            "Epoch 78:   0%|          | 512/2983124 [00:00<40:36, 1224.10it/s, loss=6.05]\n",
            "Epoch 79:   0%|          | 512/2983124 [00:00<17:37, 2819.62it/s, loss=6.07]\n",
            "Epoch 80:   0%|          | 512/2983124 [00:00<17:54, 2776.92it/s, loss=6.05]\n",
            "Epoch 81:   0%|          | 512/2983124 [00:00<16:59, 2924.98it/s, loss=6.05]\n",
            "Epoch 82:   0%|          | 512/2983124 [00:00<17:13, 2885.71it/s, loss=6.04]\n",
            "Epoch 83:   0%|          | 512/2983124 [00:00<17:09, 2896.04it/s, loss=6.04]\n",
            "Epoch 84:   0%|          | 512/2983124 [00:00<16:16, 3054.01it/s, loss=6.05]\n",
            "Epoch 85:   0%|          | 512/2983124 [00:00<18:22, 2704.17it/s, loss=6.03]\n",
            "Epoch 86:   0%|          | 512/2983124 [00:00<20:01, 2481.92it/s, loss=6.04]\n",
            "Epoch 87:   0%|          | 512/2983124 [00:00<17:49, 2787.77it/s, loss=6.01]\n",
            "Epoch 88:   0%|          | 512/2983124 [00:00<27:18, 1820.35it/s, loss=6.03]\n",
            "Epoch 89:   0%|          | 512/2983124 [00:00<16:41, 2978.82it/s, loss=6.02]\n",
            "Epoch 90:   0%|          | 512/2983124 [00:00<16:58, 2928.28it/s, loss=6.01]\n",
            "Epoch 91:   0%|          | 512/2983124 [00:00<16:56, 2933.34it/s, loss=6.03]\n",
            "Epoch 92:   0%|          | 512/2983124 [00:00<16:45, 2965.44it/s, loss=6.04]\n",
            "Epoch 93:   0%|          | 512/2983124 [00:00<17:48, 2791.47it/s, loss=6.01]\n",
            "Epoch 94:   0%|          | 512/2983124 [00:00<17:13, 2885.07it/s, loss=6.04]\n",
            "Epoch 95:   0%|          | 512/2983124 [00:00<17:38, 2817.18it/s, loss=6.04]\n",
            "Epoch 96:   0%|          | 512/2983124 [00:00<17:23, 2859.32it/s, loss=6.03]\n",
            "Epoch 97:   0%|          | 512/2983124 [00:00<17:57, 2767.35it/s, loss=6.03]\n",
            "Epoch 98:   0%|          | 512/2983124 [00:00<16:51, 2949.22it/s, loss=6.01]\n",
            "Epoch 99:   0%|          | 512/2983124 [00:00<16:28, 3018.57it/s, loss=6.03]\n",
            "Epoch 100:   0%|          | 512/2983124 [00:00<17:06, 2904.28it/s, loss=6]\n"
          ]
        }
      ]
    },
    {
      "cell_type": "code",
      "source": [
        "plt.title('SkipGram Training Process')\n",
        "plt.xlabel('Itearations')\n",
        "plt.ylabel('Loss')\n",
        "plt.grid()\n",
        "plt.plot(losses)"
      ],
      "metadata": {
        "colab": {
          "base_uri": "https://localhost:8080/",
          "height": 910
        },
        "id": "g4L6I_JArUnJ",
        "outputId": "634e44f4-b7cc-497f-e6c4-7e51c4f71a96"
      },
      "execution_count": 73,
      "outputs": [
        {
          "output_type": "execute_result",
          "data": {
            "text/plain": [
              "[<matplotlib.lines.Line2D at 0x7f4e009fb390>]"
            ]
          },
          "metadata": {},
          "execution_count": 73
        },
        {
          "output_type": "display_data",
          "data": {
            "text/plain": [
              "<Figure size 1080x1080 with 1 Axes>"
            ],
            "image/png": "[encoded data removed]"
          },
          "metadata": {
            "needs_background": "light"
          }
        }
      ]
    },
    {
      "cell_type": "code",
      "source": [
        "embedding_matrix = model.in_embedding.weight.detach().cpu()\n",
        "similarity_exp = [cos_sim(embedding_matrix, word2index, word1, word2) for word1, word2 in zip(word_pairs['# Word1'], word_pairs['Word2'])]\n",
        "mse = sum([(real - predicted)**2 for real, predicted in zip(word_pairs['Average Score'], similarity_exp)])/word_pairs.shape[0]\n",
        "\n",
        "results.append({\n",
        "              'emb_size': num_embedding_dim,\n",
        "              'lr': num_learning_rate,\n",
        "              'epochs': num_epochs,\n",
        "              'mse': mse,\n",
        "              'original': False\n",
        "          })\n",
        "\n",
        "results = sorted(results, key=lambda x: x['mse'])\n",
        "results"
      ],
      "metadata": {
        "colab": {
          "base_uri": "https://localhost:8080/"
        },
        "id": "NB7zoWW6lBL5",
        "outputId": "f1db625d-61eb-4310-dbc8-3acad1fa01f5"
      },
      "execution_count": 72,
      "outputs": [
        {
          "output_type": "execute_result",
          "data": {
            "text/plain": [
              "[{'emb_size': 20,\n",
              "  'lr': 0.0001,\n",
              "  'epochs': 3,\n",
              "  'mse': 0.12979263410878042,\n",
              "  'original': True},\n",
              " {'emb_size': 20,\n",
              "  'lr': 0.0001,\n",
              "  'epochs': 50,\n",
              "  'mse': 0.1505278921005295,\n",
              "  'original': False},\n",
              " {'emb_size': 300,\n",
              "  'lr': 0.0001,\n",
              "  'epochs': 100,\n",
              "  'mse': 0.18173166768723978,\n",
              "  'original': False},\n",
              " {'emb_size': 300,\n",
              "  'lr': 0.0001,\n",
              "  'epochs': 100,\n",
              "  'mse': 0.18173166768723978,\n",
              "  'original': False},\n",
              " {'emb_size': 20,\n",
              "  'lr': 0.0001,\n",
              "  'epochs': 10,\n",
              "  'mse': 0.19394457649419716,\n",
              "  'original': False}]"
            ]
          },
          "metadata": {},
          "execution_count": 72
        }
      ]
    },
    {
      "cell_type": "markdown",
      "source": [
        "Выводы и наблюдения:\n",
        "- mse улучшить не удалось, но многократно было замечено, что mse получается меньше на 0.1-0.15 пункта, когда модель обучается не на gpu, а на cpu - я немного не понимаю, почему так.\n",
        "- возможно, если обучить в 50-100 эпох на cpu - было бы лучше\n",
        "- mse в 0.12 кажется весьма низким и по косинусной близости вектора вполне адеватные"
      ],
      "metadata": {
        "id": "zUvPhGVkrNUt"
      }
    }
  ],
  "metadata": {
    "kernelspec": {
      "display_name": "Python 3",
      "language": "python",
      "name": "python3"
    },
    "language_info": {
      "codemirror_mode": {
        "name": "ipython",
        "version": 3
      },
      "file_extension": ".py",
      "mimetype": "text/x-python",
      "name": "python",
      "nbconvert_exporter": "python",
      "pygments_lexer": "ipython3",
      "version": "3.6.8"
    },
    "colab": {
      "provenance": [],
      "collapsed_sections": [
        "KLzJEcOPbNw4",
        "hMi1De_ebNw9",
        "Z4EBMAuTbNw_",
        "_Z_BHcQgbNxD",
        "i6SC6vzybNxE",
        "zL7QTDgqbNxF",
        "RM0wwb_ebNxG",
        "TiS5YGPVbNxH",
        "1hbjh1bdbNxI",
        "b_upSDxqbNxK",
        "gIq-7DG5bNxO",
        "rn7YUt2-bNxS",
        "GIDWY-lubNxU",
        "Rt8KgDwGbNxU"
      ]
    },
    "accelerator": "GPU",
    "gpuClass": "standard"
  },
  "nbformat": 4,
  "nbformat_minor": 0
}